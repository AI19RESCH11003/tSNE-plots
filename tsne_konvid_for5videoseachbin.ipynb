{
 "cells": [
  {
   "cell_type": "code",
   "execution_count": 31,
   "metadata": {
    "id": "1YptYyuAxUdA"
   },
   "outputs": [],
   "source": [
    "import pandas as pd\n",
    "import numpy as np\n",
    "import os\n",
    "\n",
    "# load the dataset\n",
    "\n",
    "df1 = pd.read_csv('./Konvid/X_data_konvid.csv', header=None)\n",
    "df2 = pd.read_csv('./Konvid/y_data_konvid.csv', header=None)\n",
    "\n",
    "X_data = np.array(df1)\n",
    "y_data = np.array(df2) "
   ]
  },
  {
   "cell_type": "code",
   "execution_count": 32,
   "metadata": {
    "colab": {
     "base_uri": "https://localhost:8080/"
    },
    "id": "yvUhcNWj2B9Y",
    "outputId": "000999b3-2198-47b4-8df8-6dd950198202"
   },
   "outputs": [
    {
     "name": "stdout",
     "output_type": "stream",
     "text": [
      "(1200, 1) (1200, 1024)\n"
     ]
    }
   ],
   "source": [
    "print(y_data.shape, X_data.shape)"
   ]
  },
  {
   "cell_type": "code",
   "execution_count": 33,
   "metadata": {
    "id": "mhDP8nOIvJyD"
   },
   "outputs": [],
   "source": [
    "list1 = []\n",
    "list2 = []\n",
    "list3 = []\n",
    "list4 = []\n",
    "list5 = []\n",
    "for i in range(0,X_data.shape[0]):\n",
    "  val = y_data[i]\n",
    "  #print(\"Val = \", val)\n",
    "  if val >= 0 and val <=1:\n",
    "    #print(\"Val = \", val)\n",
    "    #print(X_data[i])\n",
    "    list1.append(X_data[i])\n",
    "    #print(\"len list1 \",len(list1))\n",
    "  elif val >1 and val <=2:\n",
    "    #print(\"Val = \", val)\n",
    "    #print(X_data[i])    \n",
    "    list2.append(X_data[i])\n",
    "    #print(\"len list2 \",len(list2))\n",
    "  elif val >2 and val <=3:\n",
    "    list3.append(X_data[i])\n",
    "    #print(\"len list3 \",len(list3))\n",
    "  elif val >3 and val <=4:\n",
    "    list4.append(X_data[i])\n",
    "    #print(\"len list4 \",len(list4))\n",
    "  else :\n",
    "    list5.append(X_data[i])\n",
    "    #print(\"len list5 \",len(list5))\n",
    "    "
   ]
  },
  {
   "cell_type": "code",
   "execution_count": 34,
   "metadata": {
    "colab": {
     "base_uri": "https://localhost:8080/"
    },
    "id": "25ZJYMJYwjQe",
    "outputId": "3af776cb-e28b-443b-fc9e-f4a8d83761b8"
   },
   "outputs": [
    {
     "name": "stdout",
     "output_type": "stream",
     "text": [
      "0 1024 1024 1024 1024\n"
     ]
    }
   ],
   "source": [
    "print(len(list1),len(list2[0]),len(list3[0]),len(list4[0]),len(list5[0]))"
   ]
  },
  {
   "cell_type": "code",
   "execution_count": 35,
   "metadata": {},
   "outputs": [
    {
     "data": {
      "text/plain": [
       "[]"
      ]
     },
     "execution_count": 35,
     "metadata": {},
     "output_type": "execute_result"
    }
   ],
   "source": [
    "list1"
   ]
  },
  {
   "cell_type": "code",
   "execution_count": 37,
   "metadata": {
    "id": "4sjdzDAtzidv"
   },
   "outputs": [],
   "source": [
    "import random\n",
    "import numpy as np\n",
    "# rand5num = random.sample(range(1,20), 5)\n",
    "# print(rand5num)"
   ]
  },
  {
   "cell_type": "code",
   "execution_count": 38,
   "metadata": {
    "id": "htUv0Wdi6LY0"
   },
   "outputs": [],
   "source": [
    "\"\"\"\n",
    "rand5num = random.sample(range(0,len(list1)), 5)\n",
    "#print(rand5num)\n",
    "outlist1 = []\n",
    "for j in rand5num:\n",
    "  #print(j)\n",
    "  outlist1.append(list1[j])\n",
    "\"\"\"\n",
    "rand5num = random.sample(range(0,len(list2)), 5)\n",
    "#print(rand5num)\n",
    "outlist2 = []\n",
    "for j in rand5num:\n",
    "  outlist2.append(list2[j])\n",
    "\n",
    "rand5num = random.sample(range(0,len(list3)), 5)\n",
    "#print(rand5num)\n",
    "outlist3 = []\n",
    "for j in rand5num:\n",
    "  outlist3.append(list3[j])\n",
    "\n",
    "rand5num = random.sample(range(0,len(list4)), 5)\n",
    "#print(rand5num)\n",
    "outlist4 = []\n",
    "for j in rand5num:\n",
    "  outlist4.append(list4[j])\n",
    "\n",
    "rand5num = random.sample(range(0,len(list5)), 5)\n",
    "#print(rand5num)\n",
    "outlist5 = []\n",
    "for j in rand5num:\n",
    "  outlist5.append(list5[j])"
   ]
  },
  {
   "cell_type": "code",
   "execution_count": 39,
   "metadata": {
    "colab": {
     "base_uri": "https://localhost:8080/"
    },
    "id": "wgpGNwVW12Zp",
    "outputId": "0fde6d69-7073-435c-d32f-6066705f54bc"
   },
   "outputs": [
    {
     "name": "stdout",
     "output_type": "stream",
     "text": [
      "1200 86 438 629 47\n",
      "5\n",
      "5\n",
      "5\n",
      "5\n"
     ]
    }
   ],
   "source": [
    "print(len(list1),len(list2),len(list3),len(list4),len(list5))\n",
    "print(len(outlist2));print(len(outlist3));print(len(outlist4));print(len(outlist5));"
   ]
  },
  {
   "cell_type": "code",
   "execution_count": 42,
   "metadata": {
    "id": "7W4MyX5e38Rd"
   },
   "outputs": [],
   "source": [
    "#x1 = np.array(outlist1)\n",
    "x2 = np.array(outlist2)\n",
    "x3 = np.array(outlist3)\n",
    "x4 = np.array(outlist4)\n",
    "x5 = np.array(outlist5)\n",
    "\n",
    "X_inp = np.concatenate((x2,x3,x4,x5),axis=0)\n"
   ]
  },
  {
   "cell_type": "code",
   "execution_count": 43,
   "metadata": {
    "colab": {
     "base_uri": "https://localhost:8080/"
    },
    "id": "ZmOIpBef4SLl",
    "outputId": "6c25de2e-fe35-408e-8875-155ac54cf34a"
   },
   "outputs": [
    {
     "data": {
      "text/plain": [
       "((5, 1024), (5, 1024), (5, 1024), (5, 1024), (20, 1024))"
      ]
     },
     "execution_count": 43,
     "metadata": {},
     "output_type": "execute_result"
    }
   ],
   "source": [
    "x2.shape, x3.shape, x4.shape, x5.shape, X_inp.shape"
   ]
  },
  {
   "cell_type": "code",
   "execution_count": 44,
   "metadata": {
    "colab": {
     "base_uri": "https://localhost:8080/"
    },
    "id": "oj3PEC1eCOTP",
    "outputId": "324517f6-5975-4fcf-d975-8daab8d802a5"
   },
   "outputs": [
    {
     "name": "stdout",
     "output_type": "stream",
     "text": [
      "(20, 2)\n"
     ]
    }
   ],
   "source": [
    "import matplotlib.pyplot as plt\n",
    "from sklearn.manifold import TSNE\n",
    "ts = TSNE(n_components=2).fit_transform(X_inp)\n",
    "print(ts.shape)"
   ]
  },
  {
   "cell_type": "code",
   "execution_count": 45,
   "metadata": {
    "colab": {
     "base_uri": "https://localhost:8080/",
     "height": 483
    },
    "id": "Tqh2H4gbAre7",
    "outputId": "8c978fb9-a49e-41e7-cfca-4804b2492f16"
   },
   "outputs": [
    {
     "data": {
      "image/png": "[encoded data removed]",
      "text/plain": [
       "<Figure size 576x576 with 1 Axes>"
      ]
     },
     "metadata": {
      "needs_background": "light"
     },
     "output_type": "display_data"
    }
   ],
   "source": [
    "\n",
    "A = ts[0:5, :] # 0<mos<20\n",
    "B = ts[5:10, :] # 21<mos<40\n",
    "C = ts[10:15, :] # 41<mos<60\n",
    "D = ts[15:20, :] # 61<mos<80\n",
    "#E = ts[20:25, :] # 81<mos<100\n",
    "\n",
    "\n",
    "# show plot\n",
    "plt.show()\n",
    "plt.figure(figsize=(8,8))\n",
    "plt.scatter(A[:, 0], A[:, 1], label = '1<mos<2' )\n",
    "plt.scatter(B[:, 0], B[:, 1], label = '2<mos<3' )\n",
    "plt.scatter(C[:, 0], C[:, 1], label = '3<mos<4' )\n",
    "plt.scatter(D[:, 0], D[:, 1], label = '4<mos<5' )\n",
    "#plt.scatter(E[:, 0], E[:, 1], label = '81<mos<100' )\n",
    "\n",
    "plt.legend()\n",
    "plt.savefig('tsneplot_konvid_5fromeachbin.jpg')"
   ]
  },
  {
   "cell_type": "markdown",
   "metadata": {},
   "source": [
    "# 16GSM - 1200X16X1024"
   ]
  },
  {
   "cell_type": "code",
   "execution_count": 58,
   "metadata": {},
   "outputs": [],
   "source": [
    "import pandas as pd\n",
    "import numpy as np\n",
    "import os\n",
    "\n",
    "# load the dataset\n",
    "dfx3 = pd.read_csv('./Konvid/konvid_1200_16_1024.csv', header=None)\n",
    "dfy3 = pd.read_csv('./Konvid/konvid_1200_16_1024_mos.csv', header=None)\n"
   ]
  },
  {
   "cell_type": "code",
   "execution_count": 59,
   "metadata": {},
   "outputs": [],
   "source": [
    "X_data3 = np.array(dfx3)\n",
    "y_data3 = np.array(dfy3) "
   ]
  },
  {
   "cell_type": "code",
   "execution_count": 61,
   "metadata": {},
   "outputs": [
    {
     "name": "stdout",
     "output_type": "stream",
     "text": [
      "(19200, 1) (19200, 1024)\n"
     ]
    }
   ],
   "source": [
    "print(y_data3.shape, X_data3.shape)"
   ]
  },
  {
   "cell_type": "code",
   "execution_count": 62,
   "metadata": {},
   "outputs": [],
   "source": [
    "list3_1 = []\n",
    "list3_2 = []\n",
    "list3_3 = []\n",
    "list3_4 = []\n",
    "list3_5 = []\n",
    "for i in range(0,X_data3.shape[0]):\n",
    "  val = y_data3[i]\n",
    "  #print(\"Val = \", val)\n",
    "  if val >= 0 and val <=1:\n",
    "    #print(\"Val = \", val)\n",
    "    #print(X_data[i])\n",
    "    list3_1.append(X_data3[i])\n",
    "    #print(\"len list1 \",len(list1))\n",
    "  elif val >1 and val <=2:\n",
    "    #print(\"Val = \", val)\n",
    "    #print(X_data[i])    \n",
    "    list3_2.append(X_data3[i])\n",
    "    #print(\"len list2 \",len(list2))\n",
    "  elif val >2 and val <=3:\n",
    "    list3_3.append(X_data3[i])\n",
    "    #print(\"len list3 \",len(list3))\n",
    "  elif val >3 and val <=4:\n",
    "    #print(i)\n",
    "    list3_4.append(X_data3[i])\n",
    "    #print(\"len list4 \",len(list4))\n",
    "  else :\n",
    "    list3_5.append(X_data3[i])\n",
    "    #print(\"len list5 \",len(list5))\n",
    "    "
   ]
  },
  {
   "cell_type": "code",
   "execution_count": 63,
   "metadata": {},
   "outputs": [
    {
     "name": "stdout",
     "output_type": "stream",
     "text": [
      "0 1376 7008 10064 752\n"
     ]
    }
   ],
   "source": [
    "print(len(list3_1),len(list3_2),len(list3_3),len(list3_4),len(list3_5))"
   ]
  },
  {
   "cell_type": "code",
   "execution_count": 64,
   "metadata": {},
   "outputs": [
    {
     "name": "stdout",
     "output_type": "stream",
     "text": [
      "0 1024 1024 1024 1024\n"
     ]
    }
   ],
   "source": [
    "print(len(list3_1),len(list3_2[0]),len(list3_3[0]),len(list3_4[0]),len(list3_5[0]))"
   ]
  },
  {
   "cell_type": "code",
   "execution_count": 65,
   "metadata": {},
   "outputs": [],
   "source": [
    "import random\n",
    "import numpy as np\n",
    "# rand5num = random.sample(range(1,20), 5)\n",
    "# print(rand5num)"
   ]
  },
  {
   "cell_type": "code",
   "execution_count": 76,
   "metadata": {},
   "outputs": [],
   "source": [
    "\"\"\"\n",
    "rand5num = random.sample(range(0,len(list1)), 5)\n",
    "#print(rand5num)\n",
    "outlist1 = []\n",
    "for j in rand5num:\n",
    "  #print(j)\n",
    "  outlist1.append(list1[j])\n",
    "\"\"\"\n",
    "rand5num = random.sample(range(0,len(list3_2)), 5)\n",
    "#print(rand5num)\n",
    "outlist2 = []\n",
    "for j in rand5num:\n",
    "    for nxt in range(0,16):\n",
    "        outlist2.append(list3_2[j+nxt])\n",
    "\n",
    "rand5num = random.sample(range(0,len(list3_3)), 5)\n",
    "#print(rand5num)\n",
    "outlist3 = []\n",
    "for j in rand5num:\n",
    "    for nxt in range(0,16):\n",
    "        outlist3.append(list3_3[j+nxt])\n",
    "\n",
    "rand5num = random.sample(range(0,len(list3_4)), 5)\n",
    "#print(rand5num)\n",
    "outlist4 = []\n",
    "for j in rand5num:\n",
    "    for nxt in range(0,16):\n",
    "        outlist4.append(list3_4[j+nxt])\n",
    "\n",
    "rand5num = random.sample(range(0,len(list3_5)), 5)\n",
    "#print(rand5num)\n",
    "outlist5 = []\n",
    "for j in rand5num:\n",
    "    for nxt in range(0,16):\n",
    "        outlist5.append(list3_5[j+nxt])"
   ]
  },
  {
   "cell_type": "code",
   "execution_count": 77,
   "metadata": {},
   "outputs": [
    {
     "name": "stdout",
     "output_type": "stream",
     "text": [
      "0 1376 7008 10064 752\n",
      "80\n",
      "80\n",
      "80\n",
      "80\n"
     ]
    }
   ],
   "source": [
    "print(len(list3_1),len(list3_2),len(list3_3),len(list3_4),len(list3_5))\n",
    "print(len(outlist2));print(len(outlist3));print(len(outlist4));print(len(outlist5));"
   ]
  },
  {
   "cell_type": "code",
   "execution_count": 78,
   "metadata": {},
   "outputs": [],
   "source": [
    "#x1 = np.array(outlist1)\n",
    "x2 = np.array(outlist2)\n",
    "x3 = np.array(outlist3)\n",
    "x4 = np.array(outlist4)\n",
    "x5 = np.array(outlist5)\n",
    "\n",
    "X_inp = np.concatenate((x2,x3,x4,x5),axis=0)\n"
   ]
  },
  {
   "cell_type": "code",
   "execution_count": 79,
   "metadata": {},
   "outputs": [
    {
     "data": {
      "text/plain": [
       "((80, 1024), (80, 1024), (80, 1024), (80, 1024), (320, 1024))"
      ]
     },
     "execution_count": 79,
     "metadata": {},
     "output_type": "execute_result"
    }
   ],
   "source": [
    "x2.shape, x3.shape, x4.shape, x5.shape, X_inp.shape"
   ]
  },
  {
   "cell_type": "code",
   "execution_count": 80,
   "metadata": {},
   "outputs": [
    {
     "name": "stdout",
     "output_type": "stream",
     "text": [
      "(320, 2)\n"
     ]
    }
   ],
   "source": [
    "import matplotlib.pyplot as plt\n",
    "from sklearn.manifold import TSNE\n",
    "ts = TSNE(n_components=2).fit_transform(X_inp)\n",
    "print(ts.shape)"
   ]
  },
  {
   "cell_type": "code",
   "execution_count": 81,
   "metadata": {},
   "outputs": [
    {
     "data": {
      "image/png": "[encoded data removed]",
      "text/plain": [
       "<Figure size 576x576 with 1 Axes>"
      ]
     },
     "metadata": {
      "needs_background": "light"
     },
     "output_type": "display_data"
    }
   ],
   "source": [
    "\n",
    "A = ts[0:80, :] # 0<mos<20\n",
    "B = ts[80:160, :] # 21<mos<40\n",
    "C = ts[160:240, :] # 41<mos<60\n",
    "D = ts[240:320, :] # 61<mos<80\n",
    "#E = ts[20:25, :] # 81<mos<100\n",
    "\n",
    "\n",
    "# show plot\n",
    "plt.show()\n",
    "plt.figure(figsize=(8,8))\n",
    "plt.scatter(A[:, 0], A[:, 1], label = '1<mos<2' )\n",
    "plt.scatter(B[:, 0], B[:, 1], label = '2<mos<3' )\n",
    "plt.scatter(C[:, 0], C[:, 1], label = '3<mos<4' )\n",
    "plt.scatter(D[:, 0], D[:, 1], label = '4<mos<5' )\n",
    "#plt.scatter(E[:, 0], E[:, 1], label = '81<mos<100' )\n",
    "\n",
    "plt.legend()\n",
    "plt.savefig('tsneplot_konvid_16gsm_5from_eachbin.jpg')"
   ]
  }
 ],
 "metadata": {
  "colab": {
   "collapsed_sections": [],
   "name": "tsne_Live_vqc_bins.ipynb",
   "provenance": []
  },
  "kernelspec": {
   "display_name": "Python 3 (ipykernel)",
   "language": "python",
   "name": "python3"
  },
  "language_info": {
   "codemirror_mode": {
    "name": "ipython",
    "version": 3
   },
   "file_extension": ".py",
   "mimetype": "text/x-python",
   "name": "python",
   "nbconvert_exporter": "python",
   "pygments_lexer": "ipython3",
   "version": "3.9.7"
  }
 },
 "nbformat": 4,
 "nbformat_minor": 1
}
