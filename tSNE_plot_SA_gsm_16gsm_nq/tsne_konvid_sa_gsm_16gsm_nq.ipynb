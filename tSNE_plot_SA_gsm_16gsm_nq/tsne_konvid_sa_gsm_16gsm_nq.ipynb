{
 "cells": [
  {
   "cell_type": "code",
   "execution_count": 2,
   "metadata": {
    "id": "1YptYyuAxUdA"
   },
   "outputs": [],
   "source": [
    "import pandas as pd\n",
    "import numpy as np\n",
    "import os\n",
    "\n",
    "# load the dataset\n",
    "\n",
    "df1 = pd.read_csv('./xandy_konvid1k_sa_gsm_16gsm_nq/x_data_konvid1k_sa_gsm_nq.csv', header=None)\n",
    "df2 = pd.read_csv('./xandy_konvid1k_sa_gsm_16gsm_nq/y_data_konvid1k_sa_gsm_nq.csv', header=None)\n",
    "\n",
    "X_data = np.array(df1)\n",
    "y_data = np.array(df2) "
   ]
  },
  {
   "cell_type": "code",
   "execution_count": 32,
   "metadata": {
    "colab": {
     "base_uri": "https://localhost:8080/"
    },
    "id": "yvUhcNWj2B9Y",
    "outputId": "000999b3-2198-47b4-8df8-6dd950198202"
   },
   "outputs": [
    {
     "name": "stdout",
     "output_type": "stream",
     "text": [
      "(1200, 1) (1200, 1024)\n"
     ]
    }
   ],
   "source": [
    "print(y_data.shape, X_data.shape)"
   ]
  },
  {
   "cell_type": "code",
   "execution_count": 3,
   "metadata": {
    "id": "mhDP8nOIvJyD"
   },
   "outputs": [],
   "source": [
    "list1 = []\n",
    "list2 = []\n",
    "list3 = []\n",
    "list4 = []\n",
    "list5 = []\n",
    "for i in range(0,X_data.shape[0]):\n",
    "  val = y_data[i]\n",
    "  #print(\"Val = \", val)\n",
    "  if val >= 0 and val <=1:\n",
    "    #print(\"Val = \", val)\n",
    "    #print(X_data[i])\n",
    "    list1.append(X_data[i])\n",
    "    #print(\"len list1 \",len(list1))\n",
    "  elif val >1 and val <=2:\n",
    "    #print(\"Val = \", val)\n",
    "    #print(X_data[i])    \n",
    "    list2.append(X_data[i])\n",
    "    #print(\"len list2 \",len(list2))\n",
    "  elif val >2 and val <=3:\n",
    "    list3.append(X_data[i])\n",
    "    #print(\"len list3 \",len(list3))\n",
    "  elif val >3 and val <=4:\n",
    "    list4.append(X_data[i])\n",
    "    #print(\"len list4 \",len(list4))\n",
    "  else :\n",
    "    list5.append(X_data[i])\n",
    "    #print(\"len list5 \",len(list5))\n",
    "    "
   ]
  },
  {
   "cell_type": "code",
   "execution_count": 74,
   "metadata": {
    "colab": {
     "base_uri": "https://localhost:8080/"
    },
    "id": "25ZJYMJYwjQe",
    "outputId": "3af776cb-e28b-443b-fc9e-f4a8d83761b8"
   },
   "outputs": [
    {
     "name": "stdout",
     "output_type": "stream",
     "text": [
      "0 1025 1025 1025 1025\n",
      "0 86 438 629 47\n"
     ]
    }
   ],
   "source": [
    "print(len(list1),len(list2[0]),len(list3[0]),len(list4[0]),len(list5[0]))\n",
    "print(len(list1),len(list2),len(list3),len(list4),len(list5))"
   ]
  },
  {
   "cell_type": "code",
   "execution_count": 6,
   "metadata": {
    "id": "4sjdzDAtzidv"
   },
   "outputs": [],
   "source": [
    "import random\n",
    "import numpy as np\n"
   ]
  },
  {
   "cell_type": "code",
   "execution_count": 38,
   "metadata": {
    "id": "htUv0Wdi6LY0"
   },
   "outputs": [],
   "source": [
    "\"\"\"\n",
    "rand5num = random.sample(range(0,len(list1)), 5)\n",
    "#print(rand5num)\n",
    "outlist1 = []\n",
    "for j in rand5num:\n",
    "  #print(j)\n",
    "  outlist1.append(list1[j])\n",
    "\"\"\"\n",
    "rand5num = random.sample(range(0,len(list2)), 40)\n",
    "#print(rand5num)\n",
    "outlist2 = []\n",
    "for j in rand5num:\n",
    "  outlist2.append(list2[j])\n",
    "\n",
    "rand5num = random.sample(range(0,len(list3)), 40)\n",
    "#print(rand5num)\n",
    "outlist3 = []\n",
    "for j in rand5num:\n",
    "  outlist3.append(list3[j])\n",
    "\n",
    "rand5num = random.sample(range(0,len(list4)), 40)\n",
    "#print(rand5num)\n",
    "outlist4 = []\n",
    "for j in rand5num:\n",
    "  outlist4.append(list4[j])\n",
    "\n",
    "rand5num = random.sample(range(0,len(list5)), 40)\n",
    "#print(rand5num)\n",
    "outlist5 = []\n",
    "for j in rand5num:\n",
    "  outlist5.append(list5[j])"
   ]
  },
  {
   "cell_type": "code",
   "execution_count": 39,
   "metadata": {
    "colab": {
     "base_uri": "https://localhost:8080/"
    },
    "id": "wgpGNwVW12Zp",
    "outputId": "0fde6d69-7073-435c-d32f-6066705f54bc"
   },
   "outputs": [
    {
     "name": "stdout",
     "output_type": "stream",
     "text": [
      "0 86 438 629 47\n",
      "40\n",
      "40\n",
      "40\n",
      "40\n"
     ]
    }
   ],
   "source": [
    "print(len(list1),len(list2),len(list3),len(list4),len(list5))\n",
    "print(len(outlist2));print(len(outlist3));print(len(outlist4));print(len(outlist5));"
   ]
  },
  {
   "cell_type": "code",
   "execution_count": 40,
   "metadata": {
    "id": "7W4MyX5e38Rd"
   },
   "outputs": [],
   "source": [
    "#x1 = np.array(outlist1)\n",
    "x2 = np.array(outlist2)\n",
    "x3 = np.array(outlist3)\n",
    "x4 = np.array(outlist4)\n",
    "x5 = np.array(outlist5)\n",
    "\n",
    "X_inp = np.concatenate((x2,x3,x4,x5),axis=0)\n"
   ]
  },
  {
   "cell_type": "code",
   "execution_count": 41,
   "metadata": {
    "colab": {
     "base_uri": "https://localhost:8080/"
    },
    "id": "ZmOIpBef4SLl",
    "outputId": "6c25de2e-fe35-408e-8875-155ac54cf34a"
   },
   "outputs": [
    {
     "data": {
      "text/plain": [
       "((40, 1025), (40, 1025), (40, 1025), (40, 1025), (160, 1025))"
      ]
     },
     "execution_count": 41,
     "metadata": {},
     "output_type": "execute_result"
    }
   ],
   "source": [
    "x2.shape, x3.shape, x4.shape, x5.shape, X_inp.shape"
   ]
  },
  {
   "cell_type": "code",
   "execution_count": 42,
   "metadata": {
    "colab": {
     "base_uri": "https://localhost:8080/"
    },
    "id": "oj3PEC1eCOTP",
    "outputId": "324517f6-5975-4fcf-d975-8daab8d802a5"
   },
   "outputs": [
    {
     "name": "stdout",
     "output_type": "stream",
     "text": [
      "(160, 2)\n"
     ]
    }
   ],
   "source": [
    "import matplotlib.pyplot as plt\n",
    "from sklearn.manifold import TSNE\n",
    "ts1 = TSNE(n_components=2).fit_transform(X_inp)\n",
    "print(ts1.shape)"
   ]
  },
  {
   "cell_type": "code",
   "execution_count": 64,
   "metadata": {
    "colab": {
     "base_uri": "https://localhost:8080/",
     "height": 483
    },
    "id": "Tqh2H4gbAre7",
    "outputId": "8c978fb9-a49e-41e7-cfca-4804b2492f16"
   },
   "outputs": [
    {
     "name": "stderr",
     "output_type": "stream",
     "text": [
      "The PostScript backend does not support transparency; partially transparent artists will be rendered opaque.\n",
      "The PostScript backend does not support transparency; partially transparent artists will be rendered opaque.\n"
     ]
    },
    {
     "data": {
      "image/png": "[encoded data removed]",
      "text/plain": [
       "<Figure size 576x576 with 1 Axes>"
      ]
     },
     "metadata": {
      "needs_background": "light"
     },
     "output_type": "display_data"
    }
   ],
   "source": [
    "\n",
    "A1 = ts1[0:40, :] # 0<mos<20\n",
    "B1 = ts1[40:80, :] # 21<mos<40\n",
    "C1 = ts1[80:120, :] # 41<mos<60\n",
    "D1 = ts1[120:160, :] # 61<mos<80\n",
    "#E = ts[20:25, :] # 81<mos<100\n",
    "\n",
    "\n",
    "# show plot\n",
    "plt.show()\n",
    "plt.figure(figsize=(8,8))\n",
    "plt.scatter(A1[:, 0], A1[:, 1], label = '1<mos<2' )\n",
    "plt.scatter(B1[:, 0], B1[:, 1], label = '2<mos<3' )\n",
    "plt.scatter(C1[:, 0], C1[:, 1], label = '3<mos<4' )\n",
    "plt.scatter(D1[:, 0], D1[:, 1], label = '4<mos<5' )\n",
    "#plt.scatter(E[:, 0], E[:, 1], label = '81<mos<100' )\n",
    "\n",
    "plt.legend()\n",
    "plt.savefig('tsneplot_konvid_sa_gsm_nq.eps')"
   ]
  },
  {
   "cell_type": "markdown",
   "metadata": {},
   "source": [
    "# SA_16GSM_NQ"
   ]
  },
  {
   "cell_type": "code",
   "execution_count": 44,
   "metadata": {},
   "outputs": [],
   "source": [
    "import pandas as pd\n",
    "import numpy as np\n",
    "import os\n",
    "\n",
    "# load the dataset\n",
    "\n",
    "dfx3 = pd.read_csv('./xandy_konvid1k_sa_gsm_16gsm_nq/x_data_konvid1k_sa_16gsm_nq.csv', header=None)\n",
    "dfy3 = pd.read_csv('./xandy_konvid1k_sa_gsm_16gsm_nq/y_data_konvid1k_sa_16gsm_nq.csv', header=None)\n"
   ]
  },
  {
   "cell_type": "code",
   "execution_count": 45,
   "metadata": {},
   "outputs": [],
   "source": [
    "X_data3 = np.array(dfx3)\n",
    "y_data3 = np.array(dfy3) "
   ]
  },
  {
   "cell_type": "code",
   "execution_count": 46,
   "metadata": {},
   "outputs": [
    {
     "name": "stdout",
     "output_type": "stream",
     "text": [
      "(19200, 1) (19200, 1025)\n"
     ]
    }
   ],
   "source": [
    "print(y_data3.shape, X_data3.shape)"
   ]
  },
  {
   "cell_type": "code",
   "execution_count": 100,
   "metadata": {},
   "outputs": [],
   "source": [
    "list3_1 = []\n",
    "list3_2 = []\n",
    "list3_3 = []\n",
    "list3_4 = []\n",
    "list3_5 = []\n",
    "for i in range(0,X_data3.shape[0]):\n",
    "  val = y_data3[i]\n",
    "  #print(\"Val = \", val)\n",
    "  if val >= 0 and val <=1:\n",
    "    #print(\"Val = \", val)\n",
    "    #print(X_data[i])\n",
    "    list3_1.append(X_data3[i])\n",
    "    #print(\"len list1 \",len(list1))\n",
    "  elif val >1 and val <=2:\n",
    "    #print(\"Val = \", val)\n",
    "    #print(X_data[i])    \n",
    "    list3_2.append(X_data3[i])\n",
    "    #print(\"len list2 \",len(list2))\n",
    "  elif val >2 and val <=3:\n",
    "    list3_3.append(X_data3[i])\n",
    "    #print(\"len list3 \",len(list3))\n",
    "  elif val >3 and val <=4:\n",
    "    #print(i)\n",
    "    list3_4.append(X_data3[i])\n",
    "    #print(\"len list4 \",len(list4))\n",
    "  else :\n",
    "    list3_5.append(X_data3[i])\n",
    "    #print(\"len list5 \",len(list5))\n",
    "    "
   ]
  },
  {
   "cell_type": "code",
   "execution_count": 101,
   "metadata": {},
   "outputs": [
    {
     "name": "stdout",
     "output_type": "stream",
     "text": [
      "0 1376 7008 10064 752\n"
     ]
    }
   ],
   "source": [
    "print(len(list3_1),len(list3_2),len(list3_3),len(list3_4),len(list3_5))"
   ]
  },
  {
   "cell_type": "code",
   "execution_count": 102,
   "metadata": {},
   "outputs": [
    {
     "name": "stdout",
     "output_type": "stream",
     "text": [
      "0 1025 1025 1025 1025\n"
     ]
    }
   ],
   "source": [
    "print(len(list3_1),len(list3_2[0]),len(list3_3[0]),len(list3_4[0]),len(list3_5[0]))"
   ]
  },
  {
   "cell_type": "code",
   "execution_count": 76,
   "metadata": {},
   "outputs": [],
   "source": [
    "#list3_2"
   ]
  },
  {
   "cell_type": "code",
   "execution_count": 94,
   "metadata": {},
   "outputs": [
    {
     "name": "stdout",
     "output_type": "stream",
     "text": [
      "17\n",
      "44\n",
      "18\n",
      "61\n",
      "72\n",
      "[272, 704, 288, 976, 1152]\n"
     ]
    }
   ],
   "source": [
    "\n",
    "randomlist = []\n",
    "for i in range(0,5):\n",
    "    n = random.randint(1,96-16)\n",
    "    print(n)\n",
    "    randomlist.append(n*16)\n",
    "print(randomlist)"
   ]
  },
  {
   "cell_type": "code",
   "execution_count": 118,
   "metadata": {},
   "outputs": [
    {
     "name": "stdout",
     "output_type": "stream",
     "text": [
      "[16, 24, 69, 56, 50]\n",
      "256 257 258 259 260 261 262 263 264 265 266 267 268 269 270 271 384 385 386 387 388 389 390 391 392 393 394 395 396 397 398 399 1104 1105 1106 1107 1108 1109 1110 1111 1112 1113 1114 1115 1116 1117 1118 1119 896 897 898 899 900 901 902 903 904 905 906 907 908 909 910 911 800 801 802 803 804 805 806 807 808 809 810 811 812 813 814 815 "
     ]
    }
   ],
   "source": [
    "\"\"\"\n",
    "rand5num = random.sample(range(0,len(list1)), 5)\n",
    "#print(rand5num)\n",
    "outlist1 = []\n",
    "for j in rand5num:\n",
    "  #print(j)\n",
    "  outlist1.append(list1[j])\n",
    "\"\"\"\n",
    "#print(random.randint(0,len(list3_2))*16)\n",
    "\n",
    "rand5num = random.sample(range(0,len(list2)), 5)\n",
    "print(rand5num)\n",
    "outlist22 = []\n",
    "for j in rand5num:\n",
    "    for nxt in range(0,16):\n",
    "        print((j*16)+nxt,end=\" \")\n",
    "        outlist22.append(list3_2[(j*16)+nxt])\n",
    "\n",
    "rand5num = random.sample(range(0,len(list3)), 5)\n",
    "#print(rand5num)\n",
    "outlist32 = []\n",
    "for j in rand5num:\n",
    "    for nxt in range(0,16):\n",
    "        outlist32.append(list3_3[(j*16)+nxt])\n",
    "\n",
    "rand5num = random.sample(range(0,len(list4)), 5)\n",
    "#print(rand5num)\n",
    "outlist42 = []\n",
    "for j in rand5num:\n",
    "    for nxt in range(0,16):\n",
    "        outlist42.append(list3_4[(j*16)+nxt])\n",
    "\n",
    "rand5num = random.sample(range(0,len(list5)), 5)\n",
    "#print(rand5num)\n",
    "outlist52 = []\n",
    "for j in rand5num:\n",
    "    for nxt in range(0,16):\n",
    "        outlist52.append(list3_5[(j*16)+nxt])"
   ]
  },
  {
   "cell_type": "code",
   "execution_count": 110,
   "metadata": {},
   "outputs": [
    {
     "name": "stdout",
     "output_type": "stream",
     "text": [
      "0 1376 7008 10064 752\n",
      "80\n",
      "80\n",
      "80\n",
      "80\n"
     ]
    }
   ],
   "source": [
    "print(len(list3_1),len(list3_2),len(list3_3),len(list3_4),len(list3_5))\n",
    "print(len(outlist22));print(len(outlist32));print(len(outlist42));print(len(outlist52));"
   ]
  },
  {
   "cell_type": "code",
   "execution_count": 111,
   "metadata": {},
   "outputs": [],
   "source": [
    "#x1 = np.array(outlist1)\n",
    "x22 = np.array(outlist22)\n",
    "x32 = np.array(outlist32)\n",
    "x42 = np.array(outlist42)\n",
    "x52 = np.array(outlist52)\n",
    "\n",
    "X_inp2 = np.concatenate((x22,x32,x42,x52),axis=0)\n"
   ]
  },
  {
   "cell_type": "code",
   "execution_count": 112,
   "metadata": {},
   "outputs": [
    {
     "data": {
      "text/plain": [
       "((80, 1025), (80, 1025), (80, 1025), (80, 1025), (320, 1025))"
      ]
     },
     "execution_count": 112,
     "metadata": {},
     "output_type": "execute_result"
    }
   ],
   "source": [
    "x22.shape, x32.shape, x42.shape, x52.shape, X_inp2.shape"
   ]
  },
  {
   "cell_type": "code",
   "execution_count": 113,
   "metadata": {},
   "outputs": [
    {
     "name": "stdout",
     "output_type": "stream",
     "text": [
      "(320, 2)\n"
     ]
    }
   ],
   "source": [
    "import matplotlib.pyplot as plt\n",
    "from sklearn.manifold import TSNE\n",
    "ts = TSNE(n_components=2).fit_transform(X_inp2)\n",
    "print(ts.shape)"
   ]
  },
  {
   "cell_type": "code",
   "execution_count": 114,
   "metadata": {},
   "outputs": [
    {
     "name": "stderr",
     "output_type": "stream",
     "text": [
      "The PostScript backend does not support transparency; partially transparent artists will be rendered opaque.\n",
      "The PostScript backend does not support transparency; partially transparent artists will be rendered opaque.\n"
     ]
    },
    {
     "data": {
      "image/png": "[encoded data removed]",
      "text/plain": [
       "<Figure size 576x576 with 1 Axes>"
      ]
     },
     "metadata": {
      "needs_background": "light"
     },
     "output_type": "display_data"
    }
   ],
   "source": [
    "\n",
    "A = ts[0:80, :] # 0<mos<20\n",
    "B = ts[80:160, :] # 21<mos<40\n",
    "C = ts[160:240, :] # 41<mos<60\n",
    "D = ts[240:320, :] # 61<mos<80\n",
    "#E = ts[20:25, :] # 81<mos<100\n",
    "\n",
    "\n",
    "# show plot\n",
    "plt.show()\n",
    "plt.figure(figsize=(8,8))\n",
    "plt.scatter(A[:, 0], A[:, 1], label = '1<mos<2' )\n",
    "plt.scatter(B[:, 0], B[:, 1], label = '2<mos<3' )\n",
    "plt.scatter(C[:, 0], C[:, 1], label = '3<mos<4' )\n",
    "plt.scatter(D[:, 0], D[:, 1], label = '4<mos<5' )\n",
    "#plt.scatter(E[:, 0], E[:, 1], label = '81<mos<100' )\n",
    "\n",
    "plt.legend()\n",
    "plt.savefig('tsneplot_konvid_sa_16gsm_nq.eps')"
   ]
  },
  {
   "cell_type": "code",
   "execution_count": null,
   "metadata": {},
   "outputs": [],
   "source": []
  }
 ],
 "metadata": {
  "colab": {
   "collapsed_sections": [],
   "name": "tsne_Live_vqc_bins.ipynb",
   "provenance": []
  },
  "kernelspec": {
   "display_name": "Python 3 (ipykernel)",
   "language": "python",
   "name": "python3"
  },
  "language_info": {
   "codemirror_mode": {
    "name": "ipython",
    "version": 3
   },
   "file_extension": ".py",
   "mimetype": "text/x-python",
   "name": "python",
   "nbconvert_exporter": "python",
   "pygments_lexer": "ipython3",
   "version": "3.9.7"
  }
 },
 "nbformat": 4,
 "nbformat_minor": 1
}
