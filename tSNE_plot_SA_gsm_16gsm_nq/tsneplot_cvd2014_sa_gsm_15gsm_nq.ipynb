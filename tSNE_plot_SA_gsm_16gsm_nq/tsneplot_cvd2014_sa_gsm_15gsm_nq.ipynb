{
 "cells": [
  {
   "cell_type": "code",
   "execution_count": 15,
   "id": "1b05b0a5",
   "metadata": {},
   "outputs": [],
   "source": [
    "import random\n",
    "import pandas as pd\n",
    "import numpy as np\n",
    "import os"
   ]
  },
  {
   "cell_type": "code",
   "execution_count": 16,
   "id": "ed2936d8",
   "metadata": {},
   "outputs": [],
   "source": [
    "df1 = pd.read_csv('./xandy_cvd2014_sa_gsm_16gsm_nq/x_data_cvd2014_sa_gsm_nq.csv', header=None)\n",
    "df2 = pd.read_csv('./xandy_cvd2014_sa_gsm_16gsm_nq/y_data_cvd2014_sa_gsm_nq.csv', header=None)\n",
    "\n",
    "X_data = np.array(df1)\n",
    "y_data = np.array(df2) "
   ]
  },
  {
   "cell_type": "code",
   "execution_count": 17,
   "id": "66af9c78",
   "metadata": {},
   "outputs": [
    {
     "name": "stdout",
     "output_type": "stream",
     "text": [
      "(234, 1025) (234, 1)\n"
     ]
    },
    {
     "data": {
      "text/plain": [
       "(0, 97)"
      ]
     },
     "execution_count": 17,
     "metadata": {},
     "output_type": "execute_result"
    }
   ],
   "source": [
    "print( X_data.shape, y_data.shape)\n",
    "y_data.min(),y_data.max()"
   ]
  },
  {
   "cell_type": "code",
   "execution_count": 18,
   "id": "47124e02",
   "metadata": {},
   "outputs": [],
   "source": [
    "list1 = []\n",
    "list2 = []\n",
    "list3 = []\n",
    "list4 = []\n",
    "list5 = []\n",
    "for i in range(0,X_data.shape[0]):\n",
    "  val = y_data[i]\n",
    "  #print(\"Val = \", val)\n",
    "  if val >= 0 and val <=20:\n",
    "    #print(\"Val = \", val)\n",
    "    #print(X_data[i])\n",
    "    list1.append(X_data[i])\n",
    "    #print(\"len list1 \",len(list1))\n",
    "  elif val >20 and val <=40:\n",
    "    #print(\"Val = \", val)\n",
    "    #print(X_data[i])    \n",
    "    list2.append(X_data[i])\n",
    "    #print(\"len list2 \",len(list2))\n",
    "  elif val >40 and val <=60:\n",
    "    list3.append(X_data[i])\n",
    "    #print(\"len list3 \",len(list3))\n",
    "  elif val >60 and val <=80:\n",
    "    list4.append(X_data[i])\n",
    "    #print(\"len list4 \",len(list4))\n",
    "  else :\n",
    "    list5.append(X_data[i])\n",
    "    #print(\"len list5 \",len(list5))\n",
    "    "
   ]
  },
  {
   "cell_type": "code",
   "execution_count": 19,
   "id": "05f67eb5",
   "metadata": {},
   "outputs": [
    {
     "name": "stdout",
     "output_type": "stream",
     "text": [
      "1025 1025 1025 1025 1025\n",
      "48 45 63 39 39\n"
     ]
    }
   ],
   "source": [
    "print(len(list1[0]),len(list2[0]),len(list3[0]),len(list4[0]),len(list5[0]))\n",
    "print(len(list1),len(list2),len(list3),len(list4),len(list5))"
   ]
  },
  {
   "cell_type": "code",
   "execution_count": 20,
   "id": "453e52cf",
   "metadata": {},
   "outputs": [],
   "source": [
    "\n",
    "rand5num = random.sample(range(0,len(list1)), 30)\n",
    "#print(rand5num)\n",
    "outlist1 = []\n",
    "for j in rand5num:\n",
    "  #print(j)\n",
    "  outlist1.append(list1[j])\n",
    "\n",
    "rand5num = random.sample(range(0,len(list2)), 30)\n",
    "#print(rand5num)\n",
    "outlist2 = []\n",
    "for j in rand5num:\n",
    "  outlist2.append(list2[j])\n",
    "\n",
    "rand5num = random.sample(range(0,len(list3)), 30)\n",
    "#print(rand5num)\n",
    "outlist3 = []\n",
    "for j in rand5num:\n",
    "  outlist3.append(list3[j])\n",
    "\n",
    "rand5num = random.sample(range(0,len(list4)), 30)\n",
    "#print(rand5num)\n",
    "outlist4 = []\n",
    "for j in rand5num:\n",
    "  outlist4.append(list4[j])\n",
    "\n",
    "rand5num = random.sample(range(0,len(list5)), 30)\n",
    "#print(rand5num)\n",
    "outlist5 = []\n",
    "for j in rand5num:\n",
    "  outlist5.append(list5[j])"
   ]
  },
  {
   "cell_type": "code",
   "execution_count": 68,
   "id": "7195d193",
   "metadata": {},
   "outputs": [
    {
     "name": "stdout",
     "output_type": "stream",
     "text": [
      "48 45 63 39 39\n",
      "30 30 30 30 30\n"
     ]
    }
   ],
   "source": [
    "print(len(list1),len(list2),len(list3),len(list4),len(list5))\n",
    "print(len(outlist2),len(outlist2),len(outlist3),len(outlist4),len(outlist5));"
   ]
  },
  {
   "cell_type": "code",
   "execution_count": 26,
   "id": "951a773b",
   "metadata": {},
   "outputs": [],
   "source": [
    "x1 = np.array(outlist1)\n",
    "x2 = np.array(outlist2)\n",
    "x3 = np.array(outlist3)\n",
    "x4 = np.array(outlist4)\n",
    "x5 = np.array(outlist5)\n",
    "\n",
    "X_inp = np.concatenate((x1,x2,x3,x4,x5),axis=0)\n"
   ]
  },
  {
   "cell_type": "code",
   "execution_count": 27,
   "id": "d6b2f7e5",
   "metadata": {},
   "outputs": [
    {
     "data": {
      "text/plain": [
       "((30, 1025), (30, 1025), (30, 1025), (30, 1025), (30, 1025), (150, 1025))"
      ]
     },
     "execution_count": 27,
     "metadata": {},
     "output_type": "execute_result"
    }
   ],
   "source": [
    "x1.shape,x2.shape, x3.shape, x4.shape, x5.shape, X_inp.shape"
   ]
  },
  {
   "cell_type": "code",
   "execution_count": 28,
   "id": "50770319",
   "metadata": {},
   "outputs": [
    {
     "name": "stdout",
     "output_type": "stream",
     "text": [
      "(150, 2)\n"
     ]
    }
   ],
   "source": [
    "import matplotlib.pyplot as plt\n",
    "from sklearn.manifold import TSNE\n",
    "ts1 = TSNE(n_components=2).fit_transform(X_inp)\n",
    "print(ts1.shape)"
   ]
  },
  {
   "cell_type": "code",
   "execution_count": 55,
   "id": "a25b1d78",
   "metadata": {},
   "outputs": [
    {
     "name": "stderr",
     "output_type": "stream",
     "text": [
      "The PostScript backend does not support transparency; partially transparent artists will be rendered opaque.\n",
      "The PostScript backend does not support transparency; partially transparent artists will be rendered opaque.\n"
     ]
    },
    {
     "data": {
      "image/png": "[encoded data removed]",
      "text/plain": [
       "<Figure size 576x576 with 1 Axes>"
      ]
     },
     "metadata": {
      "needs_background": "light"
     },
     "output_type": "display_data"
    }
   ],
   "source": [
    "\n",
    "A1 = ts1[0:30, :] # 0<mos<20\n",
    "B1 = ts1[30:60, :] # 21<mos<40\n",
    "C1 = ts1[60:90, :] # 41<mos<60\n",
    "D1 = ts1[90:120, :] # 61<mos<80\n",
    "E1 = ts1[120:150, :] # 81<mos<100\n",
    "\n",
    "\n",
    "# show plot\n",
    "plt.show()\n",
    "plt.figure(figsize=(8,8))\n",
    "plt.scatter(A1[:, 0], A1[:, 1], label = '0 <mos< 20' )\n",
    "plt.scatter(B1[:, 0], B1[:, 1], label = '21 <mos< 40' )\n",
    "plt.scatter(C1[:, 0], C1[:, 1], label = '41 <mos< 60' )\n",
    "plt.scatter(D1[:, 0], D1[:, 1], label = '61 <mos< 80' )\n",
    "plt.scatter(E1[:, 0], E1[:, 1], label = '81 <mos< 100' )\n",
    "\n",
    "plt.legend()\n",
    "plt.savefig('tsneplot_cvd2014_sa_gsm_nq.eps')"
   ]
  },
  {
   "cell_type": "markdown",
   "id": "d330cf38",
   "metadata": {},
   "source": [
    "## SA_16gsm_NIQE"
   ]
  },
  {
   "cell_type": "code",
   "execution_count": 57,
   "id": "1666eef5",
   "metadata": {},
   "outputs": [],
   "source": [
    "import pandas as pd\n",
    "import numpy as np\n",
    "import os\n",
    "\n",
    "dfx3 = pd.read_csv('./xandy_cvd2014_sa_gsm_16gsm_nq/x_data_cvd2014_sa_16gsm_nq.csv', header=None)\n",
    "dfy3 = pd.read_csv('./xandy_cvd2014_sa_gsm_16gsm_nq/y_data_cvd2014_sa_16gsm_nq.csv', header=None)\n"
   ]
  },
  {
   "cell_type": "code",
   "execution_count": 58,
   "id": "36932c7e",
   "metadata": {},
   "outputs": [],
   "source": [
    "X_data3 = np.array(dfx3)\n",
    "y_data3 = np.array(dfy3) "
   ]
  },
  {
   "cell_type": "code",
   "execution_count": 59,
   "id": "9ee02a83",
   "metadata": {},
   "outputs": [
    {
     "name": "stdout",
     "output_type": "stream",
     "text": [
      "(3744, 1) (3744, 1025)\n"
     ]
    }
   ],
   "source": [
    "print(y_data3.shape, X_data3.shape)"
   ]
  },
  {
   "cell_type": "code",
   "execution_count": 60,
   "id": "81472695",
   "metadata": {},
   "outputs": [],
   "source": [
    "list3_1 = []\n",
    "list3_2 = []\n",
    "list3_3 = []\n",
    "list3_4 = []\n",
    "list3_5 = []\n",
    "for i in range(0,X_data3.shape[0]):\n",
    "  val = y_data3[i]\n",
    "  #print(\"Val = \", val)\n",
    "  if val >= 0 and val <=20:\n",
    "    #print(\"Val = \", val)\n",
    "    #print(X_data[i])\n",
    "    list3_1.append(X_data3[i])\n",
    "    #print(\"len list1 \",len(list1))\n",
    "  elif val >20 and val <=40:\n",
    "    #print(\"Val = \", val)\n",
    "    #print(X_data[i])    \n",
    "    list3_2.append(X_data3[i])\n",
    "    #print(\"len list2 \",len(list2))\n",
    "  elif val >40 and val <=60:\n",
    "    list3_3.append(X_data3[i])\n",
    "    #print(\"len list3 \",len(list3))\n",
    "  elif val >60 and val <=80:\n",
    "    #print(i)\n",
    "    list3_4.append(X_data3[i])\n",
    "    #print(\"len list4 \",len(list4))\n",
    "  else :\n",
    "    list3_5.append(X_data3[i])\n",
    "    #print(\"len list5 \",len(list5))\n",
    "    "
   ]
  },
  {
   "cell_type": "code",
   "execution_count": 61,
   "id": "7583de2e",
   "metadata": {},
   "outputs": [
    {
     "name": "stdout",
     "output_type": "stream",
     "text": [
      "768 720 1008 624 624\n",
      "1025 1025 1025 1025 1025\n"
     ]
    }
   ],
   "source": [
    "print(len(list3_1),len(list3_2),len(list3_3),len(list3_4),len(list3_5))\n",
    "print(len(list3_1[0]),len(list3_2[0]),len(list3_3[0]),len(list3_4[0]),len(list3_5[0]))"
   ]
  },
  {
   "cell_type": "code",
   "execution_count": 69,
   "id": "5337afa2",
   "metadata": {},
   "outputs": [],
   "source": [
    "\n",
    "rand5num = random.sample(range(0,len(list1)), 5)\n",
    "#print(rand5num)\n",
    "outlist12 = []\n",
    "for j in rand5num:\n",
    "        for nxt in range(0,16):\n",
    "            outlist12.append(list3_1[(j*16)+nxt])\n",
    "\n",
    "rand5num = random.sample(range(0,len(list2)), 5)\n",
    "#print(rand5num)\n",
    "outlist22 = []\n",
    "for j in rand5num:\n",
    "    for nxt in range(0,16):\n",
    "        #print(list3_2[j+nxt])\n",
    "        outlist22.append(list3_2[(j*16)+nxt])\n",
    "\n",
    "rand5num = random.sample(range(0,len(list3)), 5)\n",
    "#print(rand5num)\n",
    "outlist32 = []\n",
    "for j in rand5num:\n",
    "    for nxt in range(0,16):\n",
    "        outlist32.append(list3_3[(j*16)+nxt])\n",
    "\n",
    "rand5num = random.sample(range(0,len(list4)), 5)\n",
    "#print(rand5num)\n",
    "outlist42 = []\n",
    "for j in rand5num:\n",
    "    for nxt in range(0,16):\n",
    "        outlist42.append(list3_4[(j*16)+nxt])\n",
    "\n",
    "rand5num = random.sample(range(0,len(list5)), 5)\n",
    "#print(rand5num)\n",
    "outlist52 = []\n",
    "for j in rand5num:\n",
    "    for nxt in range(0,16):\n",
    "        outlist52.append(list3_5[(j*16)+nxt])"
   ]
  },
  {
   "cell_type": "code",
   "execution_count": 70,
   "id": "1b55613b",
   "metadata": {},
   "outputs": [
    {
     "name": "stdout",
     "output_type": "stream",
     "text": [
      "768 720 1008 624 624\n",
      "80 80 80 80 80\n"
     ]
    }
   ],
   "source": [
    "print(len(list3_1),len(list3_2),len(list3_3),len(list3_4),len(list3_5))\n",
    "print(len(outlist12),len(outlist22),len(outlist32),len(outlist42),len(outlist52));"
   ]
  },
  {
   "cell_type": "code",
   "execution_count": 71,
   "id": "0895f5e2",
   "metadata": {},
   "outputs": [],
   "source": [
    "x12 = np.array(outlist12)\n",
    "x22 = np.array(outlist22)\n",
    "x32 = np.array(outlist32)\n",
    "x42 = np.array(outlist42)\n",
    "x52 = np.array(outlist52)\n",
    "\n",
    "X_inp2 = np.concatenate((x12,x22,x32,x42,x52),axis=0)\n"
   ]
  },
  {
   "cell_type": "code",
   "execution_count": 72,
   "id": "5af0bd06",
   "metadata": {},
   "outputs": [
    {
     "data": {
      "text/plain": [
       "((80, 1025), (80, 1025), (80, 1025), (80, 1025), (80, 1025), (400, 1025))"
      ]
     },
     "execution_count": 72,
     "metadata": {},
     "output_type": "execute_result"
    }
   ],
   "source": [
    "x12.shape, x22.shape, x32.shape, x42.shape, x52.shape, X_inp2.shape"
   ]
  },
  {
   "cell_type": "code",
   "execution_count": 73,
   "id": "174aca4b",
   "metadata": {},
   "outputs": [
    {
     "name": "stdout",
     "output_type": "stream",
     "text": [
      "(400, 2)\n"
     ]
    }
   ],
   "source": [
    "import matplotlib.pyplot as plt\n",
    "from sklearn.manifold import TSNE\n",
    "ts = TSNE(n_components=2).fit_transform(X_inp2)\n",
    "print(ts.shape)"
   ]
  },
  {
   "cell_type": "code",
   "execution_count": 74,
   "id": "14a17bad",
   "metadata": {},
   "outputs": [
    {
     "name": "stderr",
     "output_type": "stream",
     "text": [
      "The PostScript backend does not support transparency; partially transparent artists will be rendered opaque.\n",
      "The PostScript backend does not support transparency; partially transparent artists will be rendered opaque.\n"
     ]
    },
    {
     "data": {
      "image/png": "[encoded data removed]",
      "text/plain": [
       "<Figure size 576x576 with 1 Axes>"
      ]
     },
     "metadata": {
      "needs_background": "light"
     },
     "output_type": "display_data"
    }
   ],
   "source": [
    "A = ts[0:80, :] # 0<mos<20\n",
    "B = ts[80:160, :] # 21<mos<40\n",
    "C = ts[160:240, :] # 41<mos<60\n",
    "D = ts[240:320, :] # 61<mos<80\n",
    "E = ts[320:400, :] # 81<mos<100\n",
    "\n",
    "\n",
    "# show plot\n",
    "plt.show()\n",
    "plt.figure(figsize=(8,8))\n",
    "plt.scatter(A[:, 0], A[:, 1], label = '0 <mos< 20' )\n",
    "plt.scatter(B[:, 0], B[:, 1], label = '21 <mos< 40' )\n",
    "plt.scatter(C[:, 0], C[:, 1], label = '41 <mos< 60' )\n",
    "plt.scatter(D[:, 0], D[:, 1], label = '61 <mos< 80' )\n",
    "plt.scatter(E[:, 0], E[:, 1], label = '81 <mos< 100' )\n",
    "\n",
    "plt.legend()\n",
    "plt.savefig('tsneplot_cvd2014_sa_16gsm_nq.eps')"
   ]
  },
  {
   "cell_type": "code",
   "execution_count": null,
   "id": "1f50dbb3",
   "metadata": {},
   "outputs": [],
   "source": []
  }
 ],
 "metadata": {
  "kernelspec": {
   "display_name": "Python 3 (ipykernel)",
   "language": "python",
   "name": "python3"
  },
  "language_info": {
   "codemirror_mode": {
    "name": "ipython",
    "version": 3
   },
   "file_extension": ".py",
   "mimetype": "text/x-python",
   "name": "python",
   "nbconvert_exporter": "python",
   "pygments_lexer": "ipython3",
   "version": "3.9.7"
  }
 },
 "nbformat": 4,
 "nbformat_minor": 5
}
