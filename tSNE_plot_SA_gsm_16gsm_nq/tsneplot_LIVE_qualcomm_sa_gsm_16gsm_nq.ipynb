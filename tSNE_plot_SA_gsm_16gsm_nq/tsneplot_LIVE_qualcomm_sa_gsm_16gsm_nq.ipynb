{
 "cells": [
  {
   "cell_type": "code",
   "execution_count": 1,
   "metadata": {},
   "outputs": [],
   "source": [
    "import random\n",
    "import pandas as pd\n",
    "import numpy as np\n",
    "import os"
   ]
  },
  {
   "cell_type": "code",
   "execution_count": 2,
   "metadata": {},
   "outputs": [],
   "source": [
    "df1 = pd.read_csv('./xandy_lq_sa_gsm_16gsm_nq/x_data_lq_sa_gsm_nq.csv', header=None)\n",
    "df2 = pd.read_csv('./xandy_lq_sa_gsm_16gsm_nq/y_data_lq_sa_gsm_nq.csv', header=None)\n",
    "\n",
    "X_data = np.array(df1)\n",
    "y_data = np.array(df2) "
   ]
  },
  {
   "cell_type": "code",
   "execution_count": 3,
   "metadata": {},
   "outputs": [
    {
     "name": "stdout",
     "output_type": "stream",
     "text": [
      "(208, 1) (208, 1025)\n"
     ]
    },
    {
     "data": {
      "text/plain": [
       "(16.562095145958942, 73.64276415152705)"
      ]
     },
     "execution_count": 3,
     "metadata": {},
     "output_type": "execute_result"
    }
   ],
   "source": [
    "print(y_data.shape, X_data.shape)\n",
    "y_data.min(),y_data.max()"
   ]
  },
  {
   "cell_type": "code",
   "execution_count": 14,
   "metadata": {},
   "outputs": [],
   "source": [
    "list1 = []\n",
    "list2 = []\n",
    "list3 = []\n",
    "list4 = []\n",
    "#list5 = []\n",
    "for i in range(0,X_data.shape[0]):\n",
    "  val = y_data[i]\n",
    "  #print(\"Val = \", val)\n",
    "  if val >= 0 and val <=20:\n",
    "    #print(\"Val = \", val)\n",
    "    #print(X_data[i])\n",
    "    list1.append(X_data[i])\n",
    "    #print(\"len list1 \",len(list1))\n",
    "  elif val >20 and val <=40:\n",
    "    #print(\"Val = \", val)\n",
    "    #print(X_data[i])    \n",
    "    list2.append(X_data[i])\n",
    "    #print(\"len list2 \",len(list2))\n",
    "  elif val >40 and val <=60:\n",
    "    list3.append(X_data[i])\n",
    "    #print(\"len list3 \",len(list3))\n",
    "  else :\n",
    "    list4.append(X_data[i])\n",
    "    #print(\"len list5 \",len(list5))\n",
    "    "
   ]
  },
  {
   "cell_type": "code",
   "execution_count": 16,
   "metadata": {},
   "outputs": [
    {
     "name": "stdout",
     "output_type": "stream",
     "text": [
      "1025 1025 1025 1025\n",
      "1 40 121 46\n"
     ]
    }
   ],
   "source": [
    "print(len(list1[0]),len(list2[0]),len(list3[0]),len(list4[0]))\n",
    "print(len(list1),len(list2),len(list3),len(list4))"
   ]
  },
  {
   "cell_type": "code",
   "execution_count": 51,
   "metadata": {},
   "outputs": [],
   "source": [
    "\n",
    "rand5num = random.sample(range(0,len(list1)), 1)\n",
    "#print(rand5num)\n",
    "outlist1 = []\n",
    "for j in rand5num:\n",
    "  #print(j)\n",
    "  outlist1.append(list1[j])\n",
    "\n",
    "rand5num = random.sample(range(0,len(list2)), 40)\n",
    "#print(rand5num)\n",
    "outlist2 = []\n",
    "for j in rand5num:\n",
    "  outlist2.append(list2[j])\n",
    "\n",
    "rand5num = random.sample(range(0,len(list3)), 80)\n",
    "#print(rand5num)\n",
    "outlist3 = []\n",
    "for j in rand5num:\n",
    "  outlist3.append(list3[j])\n",
    "\n",
    "rand5num = random.sample(range(0,len(list4)), 40)\n",
    "#print(rand5num)\n",
    "outlist4 = []\n",
    "for j in rand5num:\n",
    "  outlist4.append(list4[j])\n"
   ]
  },
  {
   "cell_type": "code",
   "execution_count": 52,
   "metadata": {},
   "outputs": [
    {
     "name": "stdout",
     "output_type": "stream",
     "text": [
      "1 40 121 46\n",
      "1 40 80 40\n"
     ]
    }
   ],
   "source": [
    "print(len(list1),len(list2),len(list3),len(list4))\n",
    "print(len(outlist1),len(outlist2),len(outlist3),len(outlist4));"
   ]
  },
  {
   "cell_type": "code",
   "execution_count": 53,
   "metadata": {},
   "outputs": [],
   "source": [
    "x1 = np.array(outlist1)\n",
    "x2 = np.array(outlist2)\n",
    "x3 = np.array(outlist3)\n",
    "x4 = np.array(outlist4)\n",
    "\n",
    "\n",
    "X_inp = np.concatenate((x1,x2,x3,x4),axis=0)"
   ]
  },
  {
   "cell_type": "code",
   "execution_count": 54,
   "metadata": {},
   "outputs": [
    {
     "data": {
      "text/plain": [
       "((1, 1025), (40, 1025), (80, 1025), (40, 1025), (161, 1025))"
      ]
     },
     "execution_count": 54,
     "metadata": {},
     "output_type": "execute_result"
    }
   ],
   "source": [
    "x1.shape,x2.shape, x3.shape, x4.shape, X_inp.shape"
   ]
  },
  {
   "cell_type": "code",
   "execution_count": 55,
   "metadata": {},
   "outputs": [
    {
     "name": "stdout",
     "output_type": "stream",
     "text": [
      "(161, 2)\n"
     ]
    }
   ],
   "source": [
    "import matplotlib.pyplot as plt\n",
    "from sklearn.manifold import TSNE\n",
    "ts1 = TSNE(n_components=2).fit_transform(X_inp)\n",
    "print(ts1.shape)"
   ]
  },
  {
   "cell_type": "code",
   "execution_count": 56,
   "metadata": {},
   "outputs": [
    {
     "name": "stderr",
     "output_type": "stream",
     "text": [
      "The PostScript backend does not support transparency; partially transparent artists will be rendered opaque.\n",
      "The PostScript backend does not support transparency; partially transparent artists will be rendered opaque.\n"
     ]
    },
    {
     "data": {
      "image/png": "[encoded data removed]",
      "text/plain": [
       "<Figure size 576x576 with 1 Axes>"
      ]
     },
     "metadata": {
      "needs_background": "light"
     },
     "output_type": "display_data"
    }
   ],
   "source": [
    "\n",
    "A1 = ts1[0:1, :] # 0<mos<20\n",
    "B1 = ts1[1:41, :] # 21<mos<40\n",
    "C1 = ts1[41:125, :] # 41<mos<60\n",
    "D1 = ts1[125:165, :] # 61<mos<80\n",
    "#E1 = ts1[125:165, :] # 81<mos<100\n",
    "\n",
    "\n",
    "# show plot\n",
    "plt.show()\n",
    "plt.figure(figsize=(8,8))\n",
    "plt.scatter(A1[:, 0], A1[:, 1], label = '0 <mos< 20' )\n",
    "plt.scatter(B1[:, 0], B1[:, 1], label = '21 <mos< 40' )\n",
    "plt.scatter(C1[:, 0], C1[:, 1], label = '41 <mos< 60' )\n",
    "plt.scatter(D1[:, 0], D1[:, 1], label = '61 <mos< 80' )\n",
    "#plt.scatter(E1[:, 0], E1[:, 1], label = '81 <mos< 100' )\n",
    "\n",
    "plt.legend()\n",
    "plt.savefig('tsneplot_lq_sa_gsm_nq.eps')"
   ]
  },
  {
   "cell_type": "markdown",
   "metadata": {},
   "source": [
    "## SA_16GSM_NIQE"
   ]
  },
  {
   "cell_type": "code",
   "execution_count": 57,
   "metadata": {},
   "outputs": [],
   "source": [
    "import pandas as pd\n",
    "import numpy as np\n",
    "import os\n",
    "\n",
    "dfx3 = pd.read_csv('./xandy_lq_sa_gsm_16gsm_nq/x_data_lq_sa_16gsm_nq.csv', header=None)\n",
    "dfy3 = pd.read_csv('./xandy_lq_sa_gsm_16gsm_nq/y_data_lq_sa_16gsm_nq.csv', header=None)\n",
    "X_data3 = np.array(dfx3)\n",
    "y_data3 = np.array(dfy3) "
   ]
  },
  {
   "cell_type": "code",
   "execution_count": 58,
   "metadata": {},
   "outputs": [
    {
     "name": "stdout",
     "output_type": "stream",
     "text": [
      "(3328, 1) (3328, 1025)\n"
     ]
    }
   ],
   "source": [
    "print(y_data3.shape, X_data3.shape)"
   ]
  },
  {
   "cell_type": "code",
   "execution_count": 75,
   "metadata": {},
   "outputs": [],
   "source": [
    "list3_1 = []\n",
    "list3_2 = []\n",
    "list3_3 = []\n",
    "list3_4 = []\n",
    "\n",
    "for i in range(0,X_data3.shape[0]):\n",
    "  val = y_data3[i]\n",
    "  #print(\"Val = \", val)\n",
    "  if val >= 0 and val <=20:\n",
    "    #print(\"Val = \", val)\n",
    "    #print(X_data[i])\n",
    "    list3_1.append(X_data3[i])\n",
    "    #print(\"len list1 \",len(list1))\n",
    "  elif val >20 and val <=40:\n",
    "    #print(\"Val = \", val)\n",
    "    #print(X_data[i])    \n",
    "    list3_2.append(X_data3[i])\n",
    "    #print(\"len list2 \",len(list2))\n",
    "  elif val >40 and val <=60:\n",
    "    list3_3.append(X_data3[i])\n",
    "    #print(\"len list3 \",len(list3))\n",
    "  else:\n",
    "    list3_4.append(X_data3[i])\n",
    "    #print(\"len list4 \",len(list4))\n",
    "\n",
    "    "
   ]
  },
  {
   "cell_type": "code",
   "execution_count": 60,
   "metadata": {},
   "outputs": [
    {
     "name": "stdout",
     "output_type": "stream",
     "text": [
      "16 640 1936 736\n",
      "1025 1025 1025 1025\n"
     ]
    }
   ],
   "source": [
    "print(len(list3_1),len(list3_2),len(list3_3),len(list3_4))\n",
    "print(len(list3_1[0]),len(list3_2[0]),len(list3_3[0]),len(list3_4[0]))"
   ]
  },
  {
   "cell_type": "code",
   "execution_count": 86,
   "metadata": {},
   "outputs": [],
   "source": [
    "\n",
    "rand5num = random.sample(range(0,len(list2)), 5)\n",
    "#print(rand5num)\n",
    "outlist22 = []\n",
    "for j in rand5num:\n",
    "    for nxt in range(0,16):\n",
    "        #print(list3_2[j+nxt])\n",
    "        outlist22.append(list3_2[(j*16)+nxt])\n",
    "\n",
    "rand5num = random.sample(range(0,len(list3)), 5)\n",
    "#print(rand5num)\n",
    "outlist32 = []\n",
    "for j in rand5num:\n",
    "    for nxt in range(0,16):\n",
    "        outlist32.append(list3_3[(j*16)+nxt])\n",
    "\n",
    "rand5num = random.sample(range(0,len(list4)), 5)\n",
    "#print(rand5num)\n",
    "outlist42 = []\n",
    "for j in rand5num:\n",
    "    for nxt in range(0,16):\n",
    "        outlist42.append(list3_4[(j*16)+nxt])\n"
   ]
  },
  {
   "cell_type": "code",
   "execution_count": 87,
   "metadata": {},
   "outputs": [
    {
     "name": "stdout",
     "output_type": "stream",
     "text": [
      "16 640 1936 736\n",
      "80 80 80\n"
     ]
    }
   ],
   "source": [
    "print(len(list3_1),len(list3_2),len(list3_3),len(list3_4))\n",
    "print(len(outlist22),len(outlist32),len(outlist42));"
   ]
  },
  {
   "cell_type": "code",
   "execution_count": 88,
   "metadata": {},
   "outputs": [],
   "source": [
    "x12 = np.array(list3_1)\n",
    "x22 = np.array(outlist22)\n",
    "x32 = np.array(outlist32)\n",
    "x42 = np.array(outlist42)\n",
    "\n",
    "\n",
    "X_inp2 = np.concatenate((x12,x22,x32,x42),axis=0)"
   ]
  },
  {
   "cell_type": "code",
   "execution_count": 89,
   "metadata": {},
   "outputs": [
    {
     "data": {
      "text/plain": [
       "((16, 1025), (80, 1025), (80, 1025), (80, 1025), (256, 1025))"
      ]
     },
     "execution_count": 89,
     "metadata": {},
     "output_type": "execute_result"
    }
   ],
   "source": [
    "x12.shape, x22.shape, x32.shape, x42.shape, X_inp2.shape"
   ]
  },
  {
   "cell_type": "code",
   "execution_count": 90,
   "metadata": {},
   "outputs": [
    {
     "name": "stdout",
     "output_type": "stream",
     "text": [
      "(256, 2)\n"
     ]
    }
   ],
   "source": [
    "import matplotlib.pyplot as plt\n",
    "from sklearn.manifold import TSNE\n",
    "ts = TSNE(n_components=2).fit_transform(X_inp2)\n",
    "print(ts.shape)"
   ]
  },
  {
   "cell_type": "code",
   "execution_count": 91,
   "metadata": {},
   "outputs": [
    {
     "name": "stderr",
     "output_type": "stream",
     "text": [
      "The PostScript backend does not support transparency; partially transparent artists will be rendered opaque.\n",
      "The PostScript backend does not support transparency; partially transparent artists will be rendered opaque.\n"
     ]
    },
    {
     "data": {
      "image/png": "[encoded data removed]",
      "text/plain": [
       "<Figure size 576x576 with 1 Axes>"
      ]
     },
     "metadata": {
      "needs_background": "light"
     },
     "output_type": "display_data"
    }
   ],
   "source": [
    "A = ts[0:16, :] # 0<mos<20\n",
    "B = ts[16:96, :] # 21<mos<40\n",
    "C = ts[96:176, :] # 41<mos<60\n",
    "D = ts[176:256, :] # 61<mos<80\n",
    "\n",
    "\n",
    "\n",
    "# show plot\n",
    "plt.show()\n",
    "plt.figure(figsize=(8,8))\n",
    "plt.scatter(A[:, 0], A[:, 1], label = '0 <mos< 20' )\n",
    "plt.scatter(B[:, 0], B[:, 1], label = '21 <mos< 40' )\n",
    "plt.scatter(C[:, 0], C[:, 1], label = '41 <mos< 60' )\n",
    "plt.scatter(D[:, 0], D[:, 1], label = '61 <mos< 80' )\n",
    "\n",
    "\n",
    "plt.legend()\n",
    "plt.savefig('tsneplot_lq_sa_16gsm_nq.eps')"
   ]
  },
  {
   "cell_type": "code",
   "execution_count": null,
   "metadata": {},
   "outputs": [],
   "source": []
  }
 ],
 "metadata": {
  "colab": {
   "name": "tsneplot_sneha.ipynb",
   "provenance": []
  },
  "kernelspec": {
   "display_name": "Python 3 (ipykernel)",
   "language": "python",
   "name": "python3"
  },
  "language_info": {
   "codemirror_mode": {
    "name": "ipython",
    "version": 3
   },
   "file_extension": ".py",
   "mimetype": "text/x-python",
   "name": "python",
   "nbconvert_exporter": "python",
   "pygments_lexer": "ipython3",
   "version": "3.9.7"
  }
 },
 "nbformat": 4,
 "nbformat_minor": 1
}
