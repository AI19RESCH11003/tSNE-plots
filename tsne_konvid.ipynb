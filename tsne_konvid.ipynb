{
 "cells": [
  {
   "cell_type": "code",
   "execution_count": 4,
   "id": "0c4e6800",
   "metadata": {},
   "outputs": [
    {
     "data": {
      "text/plain": [
       "'/media/sureshn/Study/VQA_datasets/tSNE_Plot/NR-VQA'"
      ]
     },
     "execution_count": 4,
     "metadata": {},
     "output_type": "execute_result"
    }
   ],
   "source": [
    "pwd"
   ]
  },
  {
   "cell_type": "markdown",
   "id": "4b9e217d",
   "metadata": {},
   "source": [
    "# GSM features 1200x1024"
   ]
  },
  {
   "cell_type": "code",
   "execution_count": 43,
   "id": "bd234cf2",
   "metadata": {},
   "outputs": [
    {
     "name": "stdout",
     "output_type": "stream",
     "text": [
      "(1200, 1024)\n",
      "<class 'numpy.ndarray'> (1200, 1)\n"
     ]
    }
   ],
   "source": [
    "import pandas as pd\n",
    "import numpy as np\n",
    "import os\n",
    "\n",
    "# load the dataset\n",
    "\n",
    "dataset1 = pd.read_csv('./Konvid/X_data_konvid.csv', header=None)\n",
    "datay1 = pd.read_csv('./Konvid/y_data_konvid.csv', header=None)\n",
    "\n",
    "#X = dataset1.iloc[:,0:1025]\n",
    "#X1 = dataset1.sample(n=50) #np.array(dataset1)\n",
    "#print(dataset1.sample(n=10))\n",
    "X1 = np.array(dataset1)\n",
    "y1 = np.array(datay1)\n",
    "print(X1.shape)\n",
    "print(type(y1),y1.shape)"
   ]
  },
  {
   "cell_type": "code",
   "execution_count": 58,
   "id": "d119b096",
   "metadata": {},
   "outputs": [
    {
     "name": "stdout",
     "output_type": "stream",
     "text": [
      "4.64 1.22 [3.12]\n",
      "1 1 17\n"
     ]
    }
   ],
   "source": [
    "maxy1 = np.max(y1)\n",
    "miny1 = np.min(y1)\n",
    "mediany1 = y1[np.argmin(np.abs(np.median(y1) - y1))]\n",
    "print(max1,min1,median1)\n",
    "maxy1_idx = []\n",
    "miny1_idx = []\n",
    "mediany1_idx = []\n",
    "for idx, val in enumerate(y1):\n",
    "    #val = value)\n",
    "    #print(val)\n",
    "    if val == max1:\n",
    "        #print(val, max1)\n",
    "        maxy1_idx.append(idx)\n",
    "    elif val == min1:\n",
    "        miny1_idx.append(idx)\n",
    "    elif val == median1:\n",
    "        mediany1_idx.append(idx)\n",
    "\n",
    "print(len(maxy1_idx),len(miny1_idx), len(mediany1_idx))"
   ]
  },
  {
   "cell_type": "code",
   "execution_count": 59,
   "id": "bff761f6",
   "metadata": {},
   "outputs": [],
   "source": [
    "x1_max = X1[maxy1_idx]\n",
    "x1_min = X1[miny1_idx]\n",
    "x1_median = X1[mediany1_idx]\n",
    "dataX1 = np.concatenate((x1_max,x1_min,x1_median),axis=0)"
   ]
  },
  {
   "cell_type": "code",
   "execution_count": 60,
   "id": "7e0564cb",
   "metadata": {},
   "outputs": [
    {
     "data": {
      "text/plain": [
       "(19, 1024)"
      ]
     },
     "execution_count": 60,
     "metadata": {},
     "output_type": "execute_result"
    }
   ],
   "source": [
    "dataX1.shape"
   ]
  },
  {
   "cell_type": "code",
   "execution_count": 61,
   "id": "05879d5f",
   "metadata": {},
   "outputs": [
    {
     "name": "stdout",
     "output_type": "stream",
     "text": [
      "(19, 2)\n"
     ]
    }
   ],
   "source": [
    "import matplotlib.pyplot as plt\n",
    "from sklearn.manifold import TSNE\n",
    "ts1 = TSNE(n_components=2).fit_transform(dataX1)\n",
    "print(ts1.shape)"
   ]
  },
  {
   "cell_type": "code",
   "execution_count": 62,
   "id": "ee63bbfc",
   "metadata": {},
   "outputs": [
    {
     "data": {
      "image/png": "[encoded data removed]",
      "text/plain": [
       "<Figure size 576x576 with 1 Axes>"
      ]
     },
     "metadata": {
      "needs_background": "light"
     },
     "output_type": "display_data"
    }
   ],
   "source": [
    "A3 = ts3[0:1, :] # \n",
    "B3 = ts3[1:2, :] # \n",
    "C3 = ts3[2:19, :] # \n",
    "\n",
    "\n",
    "# show plot\n",
    "plt.show()\n",
    "plt.figure(figsize=(8,8))\n",
    "plt.scatter(A3[:, 0], A3[:, 1], label='Max MOS = 4.64' )\n",
    "plt.scatter(B3[:, 0], B3[:, 1], label='Min MOS = 1.22')\n",
    "plt.scatter(C3[:, 0], C3[:, 1], label='Median MOS = 3')\n",
    "\n",
    "plt.title('KOnvid 1 feature per video ')\n",
    "plt.legend()\n",
    "plt.savefig('Konvid_1200_1024.jpg')"
   ]
  },
  {
   "cell_type": "markdown",
   "id": "056197f0",
   "metadata": {},
   "source": [
    "# GSM + NIQE 1200X1025"
   ]
  },
  {
   "cell_type": "code",
   "execution_count": null,
   "id": "7fa05c2b",
   "metadata": {},
   "outputs": [],
   "source": [
    "  \n",
    "\n",
    "dataset1 = pd.read_csv('./Konvid/konvid_16_1024_NIQE/.csv', header=None)\n",
    "datay1 = pd.read_csv('./Konvid/y_data_konvid.csv', header=None)"
   ]
  },
  {
   "cell_type": "code",
   "execution_count": null,
   "id": "4d60521f",
   "metadata": {},
   "outputs": [],
   "source": []
  },
  {
   "cell_type": "markdown",
   "id": "b9afc959",
   "metadata": {},
   "source": [
    "# Seg16GSM - 1200x16x1024"
   ]
  },
  {
   "cell_type": "code",
   "execution_count": 5,
   "id": "c546622f",
   "metadata": {},
   "outputs": [
    {
     "name": "stdout",
     "output_type": "stream",
     "text": [
      "(19200, 1024)\n",
      "<class 'numpy.ndarray'> (19200, 1)\n"
     ]
    }
   ],
   "source": [
    "import pandas as pd\n",
    "import numpy as np\n",
    "import os\n",
    "\n",
    "# load the dataset\n",
    "\n",
    "dataset3 = pd.read_csv('./Konvid/konvid_1200_16_1024.csv', header=None)\n",
    "datay3 = pd.read_csv('./Konvid/konvid_1200_16_1024_mos.csv', header=None)\n",
    "\n",
    "#X = dataset1.iloc[:,0:1025]\n",
    "#X3 = dataset1.sample(n=50) #np.array(dataset1)\n",
    "#print(dataset1.sample(n=10))\n",
    "X3 = np.array(dataset3)\n",
    "y3 = np.array(datay3)\n",
    "print(X3.shape)\n",
    "print(type(y3),y3.shape)"
   ]
  },
  {
   "cell_type": "code",
   "execution_count": 15,
   "id": "8a040ea9",
   "metadata": {},
   "outputs": [
    {
     "data": {
      "text/plain": [
       "(4.64, 1.22, 288, array([3.12]), array([3.12]))"
      ]
     },
     "execution_count": 15,
     "metadata": {},
     "output_type": "execute_result"
    }
   ],
   "source": [
    "y3.max(), y3.min(),np.argmin(np.abs(np.median(y3) - y3)), y3[np.argmin(np.abs(np.median(y3) - y3))],y3[288]"
   ]
  },
  {
   "cell_type": "code",
   "execution_count": 46,
   "id": "ec1e136e",
   "metadata": {},
   "outputs": [
    {
     "name": "stdout",
     "output_type": "stream",
     "text": [
      "4.64 1.22 [3.12]\n",
      "16 16 272\n"
     ]
    }
   ],
   "source": [
    "max1 = np.max(y3)\n",
    "min1 = np.min(y3)\n",
    "median1 = y3[np.argmin(np.abs(np.median(y3) - y3))]\n",
    "print(max1,min1,median1)\n",
    "max_idx = []\n",
    "min_idx = []\n",
    "median_idx = []\n",
    "for idx, val in enumerate(y3):\n",
    "    #val = value)\n",
    "    #print(val)\n",
    "    if val == max1:\n",
    "        #print(val, max1)\n",
    "        max_idx.append(idx)\n",
    "    elif val == min1:\n",
    "        min_idx.append(idx)\n",
    "    elif val == median1:\n",
    "        median_idx.append(idx)\n",
    "\n",
    "print(len(max_idx),len(min_idx), len(median_idx))"
   ]
  },
  {
   "cell_type": "code",
   "execution_count": 47,
   "id": "364f31ec",
   "metadata": {},
   "outputs": [],
   "source": [
    "x3_max = X3[max_idx]\n",
    "x3_min = X3[min_idx]\n",
    "x3_median = X3[median_idx]"
   ]
  },
  {
   "cell_type": "code",
   "execution_count": 48,
   "id": "8f996dff",
   "metadata": {},
   "outputs": [],
   "source": [
    "dataX3 = np.concatenate((x3_max,x3_min,x3_median),axis=0)"
   ]
  },
  {
   "cell_type": "code",
   "execution_count": 49,
   "id": "01388b58",
   "metadata": {},
   "outputs": [
    {
     "data": {
      "text/plain": [
       "(304, 1024)"
      ]
     },
     "execution_count": 49,
     "metadata": {},
     "output_type": "execute_result"
    }
   ],
   "source": [
    "dataX3.shape"
   ]
  },
  {
   "cell_type": "code",
   "execution_count": 50,
   "id": "d53df7d8",
   "metadata": {},
   "outputs": [
    {
     "name": "stdout",
     "output_type": "stream",
     "text": [
      "(304, 2)\n"
     ]
    }
   ],
   "source": [
    "import matplotlib.pyplot as plt\n",
    "from sklearn.manifold import TSNE\n",
    "ts3 = TSNE(n_components=2).fit_transform(dataX3)\n",
    "print(ts3.shape)"
   ]
  },
  {
   "cell_type": "code",
   "execution_count": 51,
   "id": "4cf02c26",
   "metadata": {},
   "outputs": [
    {
     "data": {
      "image/png": "[encoded data removed]",
      "text/plain": [
       "<Figure size 576x576 with 1 Axes>"
      ]
     },
     "metadata": {
      "needs_background": "light"
     },
     "output_type": "display_data"
    }
   ],
   "source": [
    "\n",
    "A3 = ts3[0:16, :] # \n",
    "B3 = ts3[16:32, :] # \n",
    "C3 = ts3[32:208, :] # \n",
    "\n",
    "\n",
    "# show plot\n",
    "plt.show()\n",
    "plt.figure(figsize=(8,8))\n",
    "plt.scatter(A3[:, 0], A3[:, 1], label='Max MOS = 4.64' )\n",
    "plt.scatter(B3[:, 0], B3[:, 1], label='Min MOS = 1.22')\n",
    "plt.scatter(C3[:, 0], C3[:, 1], label='Median MOS = 3')\n",
    "\n",
    "plt.title('KOnvid 16 features per video')\n",
    "plt.legend()\n",
    "plt.savefig('Konvid_1200_16_1024.jpg')"
   ]
  },
  {
   "cell_type": "markdown",
   "id": "de95ecff",
   "metadata": {},
   "source": [
    "# seg16GSM + NIQE -1200x16x1025"
   ]
  },
  {
   "cell_type": "code",
   "execution_count": 52,
   "id": "9bb2dc29",
   "metadata": {},
   "outputs": [
    {
     "name": "stdout",
     "output_type": "stream",
     "text": [
      "(19200, 1025)\n",
      "<class 'numpy.ndarray'> (19200, 1)\n"
     ]
    }
   ],
   "source": [
    "import pandas as pd\n",
    "import numpy as np\n",
    "import os\n",
    "\n",
    "# load the dataset\n",
    "\n",
    "dataset4 = pd.read_csv('./Konvid/konvid_16_1024_NIQE/X_data_konvid_16_niqe.csv', header=None)\n",
    "datay4 = pd.read_csv('./Konvid/konvid_16_1024_NIQE/konvid_1200_16_1024_mos.csv', header=None)\n",
    "\n",
    "#X = dataset1.iloc[:,0:1025]\n",
    "#X1 = dataset1.sample(n=50) #np.array(dataset1)\n",
    "#print(dataset1.sample(n=10))\n",
    "X4 = np.array(dataset4)\n",
    "y4 = np.array(datay4)\n",
    "print(X4.shape)\n",
    "print(type(y4),y4.shape)"
   ]
  },
  {
   "cell_type": "code",
   "execution_count": 53,
   "id": "62ff1c17",
   "metadata": {},
   "outputs": [],
   "source": [
    "x4_max = X4[max_idx]\n",
    "x4_min = X4[min_idx]\n",
    "x4_median = X4[median_idx]\n",
    "dataX4 = np.concatenate((x4_max,x4_min,x4_median),axis=0)"
   ]
  },
  {
   "cell_type": "code",
   "execution_count": 54,
   "id": "eda932f9",
   "metadata": {},
   "outputs": [
    {
     "data": {
      "text/plain": [
       "(304, 1025)"
      ]
     },
     "execution_count": 54,
     "metadata": {},
     "output_type": "execute_result"
    }
   ],
   "source": [
    "dataX4.shape"
   ]
  },
  {
   "cell_type": "code",
   "execution_count": 55,
   "id": "559514d2",
   "metadata": {},
   "outputs": [
    {
     "name": "stdout",
     "output_type": "stream",
     "text": [
      "(304, 2)\n"
     ]
    }
   ],
   "source": [
    "import matplotlib.pyplot as plt\n",
    "from sklearn.manifold import TSNE\n",
    "ts4 = TSNE(n_components=2).fit_transform(dataX4)\n",
    "print(ts4.shape)"
   ]
  },
  {
   "cell_type": "code",
   "execution_count": 57,
   "id": "a1688e05",
   "metadata": {},
   "outputs": [
    {
     "data": {
      "image/png": "[encoded data removed]",
      "text/plain": [
       "<Figure size 576x576 with 1 Axes>"
      ]
     },
     "metadata": {
      "needs_background": "light"
     },
     "output_type": "display_data"
    }
   ],
   "source": [
    "\n",
    "A3 = ts3[0:16, :] # \n",
    "B3 = ts3[16:32, :] # \n",
    "C3 = ts3[32:208, :] # \n",
    "\n",
    "\n",
    "# show plot\n",
    "plt.show()\n",
    "plt.figure(figsize=(8,8))\n",
    "plt.scatter(A3[:, 0], A3[:, 1], label='Max MOS = 4.64' )\n",
    "plt.scatter(B3[:, 0], B3[:, 1], label='Min MOS = 1.22')\n",
    "plt.scatter(C3[:, 0], C3[:, 1], label='Median MOS = 3')\n",
    "\n",
    "plt.title('KOnvid 16 features per video + NIQE')\n",
    "plt.legend()\n",
    "plt.savefig('Konvid_1200_16_1024_NIQE.jpg')"
   ]
  }
 ],
 "metadata": {
  "kernelspec": {
   "display_name": "Python 3 (ipykernel)",
   "language": "python",
   "name": "python3"
  },
  "language_info": {
   "codemirror_mode": {
    "name": "ipython",
    "version": 3
   },
   "file_extension": ".py",
   "mimetype": "text/x-python",
   "name": "python",
   "nbconvert_exporter": "python",
   "pygments_lexer": "ipython3",
   "version": "3.9.7"
  }
 },
 "nbformat": 4,
 "nbformat_minor": 5
}
