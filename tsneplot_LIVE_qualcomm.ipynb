{
 "cells": [
  {
   "cell_type": "code",
   "execution_count": 1,
   "metadata": {
    "colab": {
     "base_uri": "https://localhost:8080/"
    },
    "id": "l5pMJrmjIVyd",
    "outputId": "d5afee0f-9add-4be6-9a65-69263db49d8c"
   },
   "outputs": [
    {
     "name": "stdout",
     "output_type": "stream",
     "text": [
      "size  (208, 1024)\n",
      "(208, 1024)\n",
      "<class 'pandas.core.frame.DataFrame'> (208, 1)\n"
     ]
    }
   ],
   "source": [
    "import pandas as pd\n",
    "import numpy as np\n",
    "# load the dataset\n",
    "\n",
    "dataset1 = pd.read_csv('./lq_gsm/X_data_LIVE_Qualcomm_GSM.csv', header=None)\n",
    "datay1 = pd.read_csv('./lq_gsm/y_data_LIVE_Qualcomm_GSM.csv', header=None)\n",
    "\n",
    "\n",
    "print(\"size \",dataset1.shape)\n",
    "#X1 = dataset1.iloc[:,0:1025]\n",
    "#X1 = dataset1.sample(n=10) #np.array(dataset1)\n",
    "#print(dataset1.sample(n=10))\n",
    "X1 = np.array(dataset1)\n",
    "y1= np.array(datay1)\n",
    "print(X1.shape)\n",
    "print(type(datay1),datay1.shape)\n"
   ]
  },
  {
   "cell_type": "code",
   "execution_count": 2,
   "metadata": {},
   "outputs": [],
   "source": [
    "X1_lq_a = X1[0:36,:] # Artifacts\n",
    "X1_lq_c = X1[36:71, :] # Color\n",
    "X1_lq_e = X1[71:105, :] # Exposure\n",
    "X1_lq_f = X1[105:139, :] # Focus\n",
    "X1_lq_sh = X1[139:173, :] # Sharpness\n",
    "X1_lq_sb = X1[173:208, :] # Stabilization\n",
    "\n",
    "y1_lq_a = y1[0:36, :].astype(int) # Artifacts\n",
    "y1_lq_c = y1[36:71, :].astype(int) # Color\n",
    "y1_lq_e = y1[71:105, :].astype(int) # Exposure\n",
    "y1_lq_f = y1[105:139, :].astype(int) # Focus\n",
    "y1_lq_sh = y1[139:173, :].astype(int) # Sharpness\n",
    "y1_lq_sb = y1[173:208, :].astype(int) # Stabilization"
   ]
  },
  {
   "cell_type": "code",
   "execution_count": 153,
   "metadata": {},
   "outputs": [
    {
     "data": {
      "text/plain": [
       "(13, array([50]))"
      ]
     },
     "execution_count": 153,
     "metadata": {},
     "output_type": "execute_result"
    }
   ],
   "source": [
    "np.argmin(np.abs(np.median(y1_lq_a)-y1_lq_a)), y1_lq_a[13]"
   ]
  },
  {
   "cell_type": "code",
   "execution_count": 98,
   "metadata": {},
   "outputs": [
    {
     "name": "stdout",
     "output_type": "stream",
     "text": [
      "(1, 1024) [[0.13967732 0.73738009 0.22205184 ... 0.02619159 0.00622616 0.00471591]]\n"
     ]
    }
   ],
   "source": [
    "aa = X1_lq_a[y1_lq_a.argmax()].reshape(1,-1)\n",
    "print(aa.shape,aa)"
   ]
  },
  {
   "cell_type": "code",
   "execution_count": 3,
   "metadata": {},
   "outputs": [],
   "source": [
    "## Artifacts\n",
    "x11_lq_a = X1_lq_a[y1_lq_a.argmax()].reshape(1,-1)\n",
    "x12_lq_a = X1_lq_a[y1_lq_a.argmin()].reshape(1,-1)\n",
    "x13_lq_a = X1_lq_a[np.argmin(np.abs(np.median(y1_lq_a) - y1_lq_a))].reshape(1,-1)\n",
    "## Color\n",
    "x11_lq_c = X1_lq_c[y1_lq_c.argmax()].reshape(1,-1)\n",
    "x12_lq_c = X1_lq_c[y1_lq_c.argmin()].reshape(1,-1)\n",
    "x13_lq_c = X1_lq_c[np.argmin(np.abs(np.median(y1_lq_c) - y1_lq_c))].reshape(1,-1)\n",
    "## Artifacts\n",
    "x11_lq_e = X1_lq_e[y1_lq_e.argmax()].reshape(1,-1)\n",
    "x12_lq_e = X1_lq_e[y1_lq_e.argmin()].reshape(1,-1)\n",
    "x13_lq_e = X1_lq_e[np.argmin(np.abs(np.median(y1_lq_e) - y1_lq_e))].reshape(1,-1)\n",
    "## Artifacts\n",
    "x11_lq_f = X1_lq_f[y1_lq_f.argmax()].reshape(1,-1)\n",
    "x12_lq_f = X1_lq_f[y1_lq_f.argmin()].reshape(1,-1)\n",
    "x13_lq_f = X1_lq_f[np.argmin(np.abs(np.median(y1_lq_f) - y1_lq_f))].reshape(1,-1)\n",
    "## Artifacts\n",
    "x11_lq_sh = X1_lq_sh[y1_lq_sh.argmax()].reshape(1,-1)\n",
    "x12_lq_sh = X1_lq_sh[y1_lq_sh.argmin()].reshape(1,-1)\n",
    "x13_lq_sh = X1_lq_sh[np.argmin(np.abs(np.median(y1_lq_sh) - y1_lq_sh))].reshape(1,-1)\n",
    "## Artifacts\n",
    "x11_lq_sb = X1_lq_sb[y1_lq_sb.argmax()].reshape(1,-1)\n",
    "x12_lq_sb = X1_lq_sb[y1_lq_sb.argmin()].reshape(1,-1)\n",
    "x13_lq_sb = X1_lq_sb[np.argmin(np.abs(np.median(y1_lq_sb) - y1_lq_sb))].reshape(1,-1)"
   ]
  },
  {
   "cell_type": "code",
   "execution_count": 4,
   "metadata": {},
   "outputs": [],
   "source": [
    "dataX1 = np.concatenate((x11_lq_a,x12_lq_a,x13_lq_a, x11_lq_c,x12_lq_c,x13_lq_c,x11_lq_e,x12_lq_e,x13_lq_e,\n",
    "                        x11_lq_f,x12_lq_f,x13_lq_f,x11_lq_sh,x12_lq_sh,x13_lq_sh, x11_lq_sb,x12_lq_sb,x13_lq_sb), \n",
    "                        axis=0)"
   ]
  },
  {
   "cell_type": "code",
   "execution_count": 5,
   "metadata": {},
   "outputs": [
    {
     "data": {
      "text/plain": [
       "(18, 1024)"
      ]
     },
     "execution_count": 5,
     "metadata": {},
     "output_type": "execute_result"
    }
   ],
   "source": [
    "dataX1.shape"
   ]
  },
  {
   "cell_type": "code",
   "execution_count": 6,
   "metadata": {},
   "outputs": [
    {
     "name": "stdout",
     "output_type": "stream",
     "text": [
      "<class 'numpy.ndarray'> (18, 2)\n"
     ]
    }
   ],
   "source": [
    "import matplotlib.pyplot as plt\n",
    "from sklearn.manifold import TSNE\n",
    "ts1 = TSNE(n_components=2).fit_transform(dataX1)\n",
    "print(type(ts1), ts1.shape)"
   ]
  },
  {
   "cell_type": "code",
   "execution_count": 7,
   "metadata": {
    "colab": {
     "base_uri": "https://localhost:8080/",
     "height": 501
    },
    "id": "4Z2MhRqHJD30",
    "outputId": "e2d85f11-3e5c-44de-c920-c7e913145d38"
   },
   "outputs": [
    {
     "data": {
      "image/png": "[encoded data removed]",
      "text/plain": [
       "<Figure size 576x576 with 1 Axes>"
      ]
     },
     "metadata": {
      "needs_background": "light"
     },
     "output_type": "display_data"
    }
   ],
   "source": [
    "\n",
    "A1 = ts1[0:3, :] # Artifacts\n",
    "B1 = ts1[3:6, :] # Color\n",
    "C1 = ts1[6:9, :] # Exposure\n",
    "D1 = ts1[9:12, :] # Focus\n",
    "E1 = ts1[12:15, :] # Sharpness\n",
    "F1 = ts1[15:18, :] # Stabilization\n",
    "\n",
    "# show plot\n",
    "plt.show()\n",
    "plt.figure(figsize=(8,8))\n",
    "plt.scatter(A1[:, 0], A1[:, 1], label = 'Artifacts' )\n",
    "plt.scatter(B1[:, 0], B1[:, 1], label = 'Color' )\n",
    "plt.scatter(C1[:, 0], C1[:, 1], label = 'Exposure' )\n",
    "plt.scatter(D1[:, 0], D1[:, 1], label = 'Focus' )\n",
    "plt.scatter(E1[:, 0], E1[:, 1], label = 'Sharpness' )\n",
    "plt.scatter(F1[:, 0], F1[:, 1], label = 'Stabilization' )\n",
    "plt.legend()\n",
    "plt.savefig('LQ_GSM.jpg')"
   ]
  },
  {
   "cell_type": "markdown",
   "metadata": {},
   "source": [
    "## GSM + NIQE"
   ]
  },
  {
   "cell_type": "code",
   "execution_count": 8,
   "metadata": {
    "colab": {
     "base_uri": "https://localhost:8080/"
    },
    "id": "B9PcEgincS2m",
    "outputId": "9ea8ac3a-1e88-42fe-fb90-f42a70917c31"
   },
   "outputs": [
    {
     "name": "stdout",
     "output_type": "stream",
     "text": [
      "size  (208, 1025)\n",
      "(208, 1025)\n"
     ]
    }
   ],
   "source": [
    "import pandas as pd\n",
    "import numpy as np\n",
    "# load the dataset\n",
    "\n",
    "dataset2 = pd.read_csv('./lq_gsm_nq/X_data_LIVE_Qualcomm_GSM_NIQE.csv', header=None)\n",
    "\n",
    "\n",
    "print(\"size \",dataset2.shape)\n",
    "#X = dataset1.iloc[:,0:1025]\n",
    "X2 = np.array(dataset2)\n",
    "\n",
    "print(X2.shape)"
   ]
  },
  {
   "cell_type": "code",
   "execution_count": 9,
   "metadata": {},
   "outputs": [],
   "source": [
    "X2_lq_a = X2[0:36,:] # Artifacts\n",
    "X2_lq_c = X2[36:71, :] # Color\n",
    "X2_lq_e = X2[71:105, :] # Exposure\n",
    "X2_lq_f = X2[105:139, :] # Focus\n",
    "X2_lq_sh = X2[139:173, :] # Sharpness\n",
    "X2_lq_sb = X2[173:208, :] # Stabilization\n",
    "\n",
    "y1_lq_a = y1[0:36, :] # Artifacts\n",
    "y1_lq_c = y1[36:71, :] # Color\n",
    "y1_lq_e = y1[71:105, :] # Exposure\n",
    "y1_lq_f = y1[105:139, :] # Focus\n",
    "y1_lq_sh = y1[139:173, :] # Sharpness\n",
    "y1_lq_sb = y1[173:208, :] # Stabilization"
   ]
  },
  {
   "cell_type": "code",
   "execution_count": 10,
   "metadata": {},
   "outputs": [],
   "source": [
    "## Artifacts\n",
    "x21_lq_a = X2_lq_a[y1_lq_a.argmax()].reshape(1,-1)\n",
    "x22_lq_a = X2_lq_a[y1_lq_a.argmin()].reshape(1,-1)\n",
    "x23_lq_a = X2_lq_a[np.argmin(np.abs(np.median(y1_lq_a) - y1_lq_a))].reshape(1,-1)\n",
    "## Color\n",
    "x21_lq_c = X2_lq_c[y1_lq_c.argmax()].reshape(1,-1)\n",
    "x22_lq_c = X2_lq_c[y1_lq_c.argmin()].reshape(1,-1)\n",
    "x23_lq_c = X2_lq_c[np.argmin(np.abs(np.median(y1_lq_c) - y1_lq_c))].reshape(1,-1)\n",
    "## Artifacts\n",
    "x21_lq_e = X2_lq_e[y1_lq_e.argmax()].reshape(1,-1)\n",
    "x22_lq_e = X2_lq_e[y1_lq_e.argmin()].reshape(1,-1)\n",
    "x23_lq_e = X2_lq_e[np.argmin(np.abs(np.median(y1_lq_e) - y1_lq_e))].reshape(1,-1)\n",
    "## Artifacts\n",
    "x21_lq_f = X2_lq_f[y1_lq_f.argmax()].reshape(1,-1)\n",
    "x22_lq_f = X2_lq_f[y1_lq_f.argmin()].reshape(1,-1)\n",
    "x23_lq_f = X2_lq_f[np.argmin(np.abs(np.median(y1_lq_f) - y1_lq_f))].reshape(1,-1)\n",
    "## Artifacts\n",
    "x21_lq_sh = X2_lq_sh[y1_lq_sh.argmax()].reshape(1,-1)\n",
    "x22_lq_sh = X2_lq_sh[y1_lq_sh.argmin()].reshape(1,-1)\n",
    "x23_lq_sh = X2_lq_sh[np.argmin(np.abs(np.median(y1_lq_sh) - y1_lq_sh))].reshape(1,-1)\n",
    "## Artifacts\n",
    "x21_lq_sb = X2_lq_sb[y1_lq_sb.argmax()].reshape(1,-1)\n",
    "x22_lq_sb = X2_lq_sb[y1_lq_sb.argmin()].reshape(1,-1)\n",
    "x23_lq_sb = X2_lq_sb[np.argmin(np.abs(np.median(y1_lq_sb) - y1_lq_sb))].reshape(1,-1)"
   ]
  },
  {
   "cell_type": "code",
   "execution_count": 11,
   "metadata": {},
   "outputs": [],
   "source": [
    "dataX2 = np.concatenate((x21_lq_a,x22_lq_a,x23_lq_a, x21_lq_c,x22_lq_c,x23_lq_c,x21_lq_e,x22_lq_e,x23_lq_e,\n",
    "                        x21_lq_f,x22_lq_f,x23_lq_f,x21_lq_sh,x22_lq_sh,x23_lq_sh, x21_lq_sb,x22_lq_sb,x23_lq_sb), \n",
    "                        axis=0)"
   ]
  },
  {
   "cell_type": "code",
   "execution_count": 12,
   "metadata": {},
   "outputs": [
    {
     "data": {
      "text/plain": [
       "(18, 1025)"
      ]
     },
     "execution_count": 12,
     "metadata": {},
     "output_type": "execute_result"
    }
   ],
   "source": [
    "dataX2.shape"
   ]
  },
  {
   "cell_type": "code",
   "execution_count": 13,
   "metadata": {
    "colab": {
     "base_uri": "https://localhost:8080/"
    },
    "id": "Jj5w6idZbLLY",
    "outputId": "38e8af73-bd6f-42de-c00f-9c9ab57dccf5"
   },
   "outputs": [
    {
     "name": "stdout",
     "output_type": "stream",
     "text": [
      "(18, 2)\n"
     ]
    },
    {
     "data": {
      "image/png": "[encoded data removed]",
      "text/plain": [
       "<Figure size 576x576 with 1 Axes>"
      ]
     },
     "metadata": {
      "needs_background": "light"
     },
     "output_type": "display_data"
    }
   ],
   "source": [
    "import matplotlib.pyplot as plt\n",
    "from sklearn.manifold import TSNE\n",
    "ts2 = TSNE(n_components=2).fit_transform(dataX2)\n",
    "print(ts2.shape)\n",
    "A2 = ts2[0:3, :] # Artifacts\n",
    "B2 = ts2[3:6, :] # Color\n",
    "C2 = ts2[6:9, :] # Exposure\n",
    "D2 = ts2[9:12, :] # Focus\n",
    "E2 = ts2[12:15, :] # Sharpness\n",
    "F2 = ts2[15:18, :] # Stabilization\n",
    "\n",
    "# show plot\n",
    "plt.show()\n",
    "plt.figure(figsize=(8,8))\n",
    "plt.scatter(A2[:, 0], A2[:, 1], label = 'Artifacts' )\n",
    "plt.scatter(B2[:, 0], B2[:, 1], label = 'Color' )\n",
    "plt.scatter(C2[:, 0], C2[:, 1], label = 'Exposure' )\n",
    "plt.scatter(D2[:, 0], D2[:, 1], label = 'Focus' )\n",
    "plt.scatter(E2[:, 0], E2[:, 1], label = 'Sharpness' )\n",
    "plt.scatter(F2[:, 0], F2[:, 1], label = 'Stabilization')\n",
    "plt.legend()\n",
    "plt.savefig('LQ_GSM_NQ.jpg')"
   ]
  },
  {
   "cell_type": "markdown",
   "metadata": {},
   "source": [
    "# SEG16GSM"
   ]
  },
  {
   "cell_type": "code",
   "execution_count": 14,
   "metadata": {},
   "outputs": [
    {
     "name": "stdout",
     "output_type": "stream",
     "text": [
      "size  (3328, 1024)\n",
      "(3328, 1024) (3328, 1)\n"
     ]
    }
   ],
   "source": [
    "import pandas as pd\n",
    "import numpy as np\n",
    "# load the dataset\n",
    "\n",
    "dataset3 = pd.read_csv('./lq_seg16gsm/X_data_LIVE_Qualcomm_seg16GSM.csv', header=None)\n",
    "datasety3 = pd.read_csv('./lq_seg16gsm/y_data_LIVE_Qualcomm_seg16GSM.csv', header=None)\n",
    "\n",
    "print(\"size \",dataset3.shape)\n",
    "#X = dataset1.iloc[:,0:1025]\n",
    "X3 = np.array(dataset3)\n",
    "y3 = np.array(datasety3)\n",
    "print(X3.shape, y3.shape)\n"
   ]
  },
  {
   "cell_type": "code",
   "execution_count": 15,
   "metadata": {},
   "outputs": [],
   "source": [
    "X3_lq_a = X3[0:576, :] # Artifacts\n",
    "X3_lq_c = X3[576:1136, :] # Color\n",
    "X3_lq_e = X3[1136:1680, :] # Exposure\n",
    "X3_lq_f = X3[1680:2224, :] # Focus\n",
    "X3_lq_sh = X3[2224:2768, :] # Sharpness\n",
    "X3_lq_sb = X3[2768:3328, :] # Stabilization\n",
    "\n",
    "y3_lq_a = y3[0:576, :] # Artifacts\n",
    "y3_lq_c = y3[576:1136, :] # Color\n",
    "y3_lq_e = y3[1136:1680, :] # Exposure\n",
    "y3_lq_f = y3[1680:2224, :] # Focus\n",
    "y3_lq_sh = y3[2224:2768, :] # Sharpness\n",
    "y3_lq_sb = y3[2768:3328, :] # Stabilization"
   ]
  },
  {
   "cell_type": "code",
   "execution_count": 141,
   "metadata": {},
   "outputs": [
    {
     "name": "stdout",
     "output_type": "stream",
     "text": [
      "median index  1 value  29 29.0\n",
      "[50.3784972]\n"
     ]
    }
   ],
   "source": [
    "a = [10,29,50,60,20]\n",
    "x = np.argmin(np.abs(np.median(a) - a))\n",
    "print(\"median index \",x, \"value \",a[x], np.median(a))\n",
    "print(y1[13])"
   ]
  },
  {
   "cell_type": "code",
   "execution_count": 16,
   "metadata": {},
   "outputs": [
    {
     "name": "stdout",
     "output_type": "stream",
     "text": [
      "69 21 52\n",
      "69 21 52\n"
     ]
    }
   ],
   "source": [
    "max1 = int(np.max(y1_lq_a))\n",
    "min1 = int(np.min(y1_lq_a))\n",
    "median1 = int(y3[np.argmin(np.abs(np.median(y1_lq_a) - y1_lq_a))])\n",
    "print(int(max1),int(min1),int(median1))\n",
    "artifacts_idx = []\n",
    "for idx, value in enumerate(y3_lq_a):\n",
    "    val = int(value)\n",
    "    #print(val)\n",
    "    if val == max1:\n",
    "        #print(val, max1)\n",
    "        artifacts_idx.append(idx)\n",
    "    elif val == min1:\n",
    "        artifacts_idx.append(idx)\n",
    "    elif val == median1:\n",
    "        artifacts_idx.append(idx)\n",
    "\n",
    "### Color\n",
    "max2 = int(np.max(y1_lq_c))\n",
    "min2 = int(np.min(y1_lq_c))\n",
    "median2 = int(y3[np.argmin(np.abs(np.median(y1_lq_c) - y1_lq_c))])\n",
    "#print(int(max1),int(min1),int(median1))\n",
    "color_idx = []\n",
    "for idx, value in enumerate(y3_lq_c):\n",
    "    val = int(value)\n",
    "    #print(val)\n",
    "    if val == max2:\n",
    "        #print(val, max1)\n",
    "        color_idx.append(idx)\n",
    "    elif val == min2:\n",
    "        color_idx.append(idx)\n",
    "    elif val == median2:\n",
    "        color_idx.append(idx)\n",
    "\n",
    "##Exposure\n",
    "max3 = int(np.max(y1_lq_e))\n",
    "min3 = int(np.min(y1_lq_e))\n",
    "median3 = int(y3[np.argmin(np.abs(np.median(y1_lq_e) - y1_lq_e))])\n",
    "#print(int(max1),int(min1),int(median1))\n",
    "exposure_idx = []\n",
    "for idx, value in enumerate(y3_lq_e):\n",
    "    val = int(value)\n",
    "    #print(val)\n",
    "    if val == max3:\n",
    "        #print(val, max1)\n",
    "        exposure_idx.append(idx)\n",
    "    elif val == min3:\n",
    "        exposure_idx.append(idx)\n",
    "    elif val == median3:\n",
    "        exposure_idx.append(idx)\n",
    "\n",
    "### Focus\n",
    "max4 = int(np.max(y1_lq_f))\n",
    "min4 = int(np.min(y1_lq_f))\n",
    "median4 = int(y3[np.argmin(np.abs(np.median(y1_lq_f) - y1_lq_f))])\n",
    "print(int(max1),int(min1),int(median1))\n",
    "focus_idx = []\n",
    "for idx, value in enumerate(y3_lq_f):\n",
    "    val = int(value)\n",
    "    #print(val)\n",
    "    if val == max4:\n",
    "        #print(val, max1)\n",
    "        focus_idx.append(idx)\n",
    "    elif val == min4:\n",
    "        focus_idx.append(idx)\n",
    "    elif val == median4:\n",
    "        focus_idx.append(idx)\n",
    "\n",
    "### Sharpness\n",
    "max5 = int(np.max(y1_lq_sh))\n",
    "min5 = int(np.min(y1_lq_sh))\n",
    "median5 = int(y3[np.argmin(np.abs(np.median(y1_lq_sh) - y1_lq_sh))])\n",
    "#print(int(max1),int(min1),int(median1))\n",
    "sharpness_idx = []\n",
    "for idx, value in enumerate(y3_lq_sh):\n",
    "    val = int(value)\n",
    "    #print(val)\n",
    "    if val == max5:\n",
    "        #print(val, max1)\n",
    "        sharpness_idx.append(idx)\n",
    "    elif val == min5:\n",
    "        sharpness_idx.append(idx)\n",
    "    elif val == median5:\n",
    "        sharpness_idx.append(idx)\n",
    "\n",
    "## stabilization\n",
    "max6 = int(np.max(y1_lq_sb))\n",
    "min6 = int(np.min(y1_lq_sb))\n",
    "median6 = int(y3[np.argmin(np.abs(np.median(y1_lq_sb) - y1_lq_sb))])\n",
    "#print(int(max1),int(min1),int(median1))\n",
    "stabilization_idx = []\n",
    "for idx, value in enumerate(y3_lq_sb):\n",
    "    val = int(value)\n",
    "    #print(val)\n",
    "    if val == max1:\n",
    "        #print(val, max1)\n",
    "        stabilization_idx.append(idx)\n",
    "    elif val == min1:\n",
    "        stabilization_idx.append(idx)\n",
    "    elif val == median1:\n",
    "        stabilization_idx.append(idx)"
   ]
  },
  {
   "cell_type": "code",
   "execution_count": 17,
   "metadata": {},
   "outputs": [
    {
     "name": "stdout",
     "output_type": "stream",
     "text": [
      "96 64 48 32 48 32\n"
     ]
    }
   ],
   "source": [
    "print(len(artifacts_idx),len(color_idx),len(exposure_idx),len(focus_idx),len(sharpness_idx),len(stabilization_idx))"
   ]
  },
  {
   "cell_type": "code",
   "execution_count": 166,
   "metadata": {},
   "outputs": [
    {
     "name": "stdout",
     "output_type": "stream",
     "text": [
      "[20 30 60]\n"
     ]
    }
   ],
   "source": [
    "a = [1,2,5]\n",
    "vv = np.array([10,20,30,40,50,60])\n",
    "print(vv[a])"
   ]
  },
  {
   "cell_type": "code",
   "execution_count": 18,
   "metadata": {},
   "outputs": [
    {
     "data": {
      "text/plain": [
       "(320, 1024)"
      ]
     },
     "execution_count": 18,
     "metadata": {},
     "output_type": "execute_result"
    }
   ],
   "source": [
    "x31_lq_a = X3_lq_a[artifacts_idx]\n",
    "x31_lq_c = X3_lq_c[color_idx]\n",
    "x31_lq_e = X3_lq_e[exposure_idx]\n",
    "x31_lq_f = X3_lq_f[focus_idx]\n",
    "x31_lq_sh = X3_lq_sh[sharpness_idx]\n",
    "x31_lq_sb = X3_lq_sb[stabilization_idx]\n",
    "\n",
    "dataX3 = np.concatenate((x31_lq_a,x31_lq_c,x31_lq_e,x31_lq_f,x31_lq_sh,x31_lq_sb),axis=0)\n",
    "dataX3.shape"
   ]
  },
  {
   "cell_type": "code",
   "execution_count": 19,
   "metadata": {},
   "outputs": [
    {
     "name": "stdout",
     "output_type": "stream",
     "text": [
      "(320, 2)\n"
     ]
    }
   ],
   "source": [
    "import matplotlib.pyplot as plt\n",
    "from sklearn.manifold import TSNE\n",
    "ts3 = TSNE(n_components=2).fit_transform(dataX3)\n",
    "print(ts3.shape)"
   ]
  },
  {
   "cell_type": "code",
   "execution_count": 20,
   "metadata": {},
   "outputs": [
    {
     "data": {
      "image/png": "[encoded data removed]",
      "text/plain": [
       "<Figure size 576x576 with 1 Axes>"
      ]
     },
     "metadata": {
      "needs_background": "light"
     },
     "output_type": "display_data"
    }
   ],
   "source": [
    "\n",
    "A3 = ts3[0:96, :] # Artifacts\n",
    "B3 = ts3[96:160, :] # Color\n",
    "C3 = ts3[160:208, :] # Exposure\n",
    "D3 = ts3[208:240, :] # Focus\n",
    "E3 = ts3[240:288, :] # Sharpness\n",
    "F3 = ts3[288:320, :] # Stabilization\n",
    "\n",
    "# show plot\n",
    "plt.show()\n",
    "plt.figure(figsize=(8,8))\n",
    "plt.scatter(A3[:, 0], A3[:, 1], label = 'Artifacts' )\n",
    "plt.scatter(B3[:, 0], B3[:, 1], label = 'Color' )\n",
    "plt.scatter(C3[:, 0], C3[:, 1], label = 'Exposure' )\n",
    "plt.scatter(D3[:, 0], D3[:, 1], label = 'Focus' )\n",
    "plt.scatter(E3[:, 0], E3[:, 1], label = 'Sharpness' )\n",
    "plt.scatter(F3[:, 0], F3[:, 1],label = 'Stabilization')\n",
    "plt.legend()\n",
    "plt.savefig('LQ_seg16GSM.jpg')"
   ]
  },
  {
   "cell_type": "markdown",
   "metadata": {},
   "source": [
    "# SEG16GSM_NIQE"
   ]
  },
  {
   "cell_type": "code",
   "execution_count": 21,
   "metadata": {},
   "outputs": [
    {
     "name": "stdout",
     "output_type": "stream",
     "text": [
      "size  (3328, 1025)\n",
      "(3328, 1025)\n"
     ]
    }
   ],
   "source": [
    "import pandas as pd\n",
    "import numpy as np\n",
    "# load the dataset\n",
    "\n",
    "dataset4 = pd.read_csv('./lq_seg16gsm_nq/X_data_LIVE_Qualcomm_seg16GSM_NIQE.csv', header=None)\n",
    "\n",
    "dataset4.to_numpy()\n",
    "print(\"size \",dataset4.shape)\n",
    "#X = dataset1.iloc[:,0:1025]\n",
    "X4 = np.array(dataset4)\n",
    "\n",
    "print(X4.shape)"
   ]
  },
  {
   "cell_type": "code",
   "execution_count": 22,
   "metadata": {},
   "outputs": [],
   "source": [
    "X4_lq_a = X4[0:576, :] # Artifacts\n",
    "X4_lq_c = X4[576:1136, :] # Color\n",
    "X4_lq_e = X4[1136:1680, :] # Exposure\n",
    "X4_lq_f = X4[1680:2224, :] # Focus\n",
    "X4_lq_sh = X4[2224:2768, :] # Sharpness\n",
    "X4_lq_sb = X4[2768:3328, :] # Stabilization\n",
    "\n",
    "y4_lq_a = y3[0:576, :] # Artifacts\n",
    "y4_lq_c = y3[576:1136, :] # Color\n",
    "y4_lq_e = y3[1136:1680, :] # Exposure\n",
    "y4_lq_f = y3[1680:2224, :] # Focus\n",
    "y4_lq_sh = y3[2224:2768, :] # Sharpness\n",
    "y4_lq_sb = y3[2768:3328, :] # Stabilization"
   ]
  },
  {
   "cell_type": "code",
   "execution_count": 23,
   "metadata": {},
   "outputs": [
    {
     "data": {
      "text/plain": [
       "(320, 1025)"
      ]
     },
     "execution_count": 23,
     "metadata": {},
     "output_type": "execute_result"
    }
   ],
   "source": [
    "x41_lq_a = X4_lq_a[artifacts_idx]\n",
    "x41_lq_c = X4_lq_c[color_idx]\n",
    "x41_lq_e = X4_lq_e[exposure_idx]\n",
    "x41_lq_f = X4_lq_f[focus_idx]\n",
    "x41_lq_sh = X4_lq_sh[sharpness_idx]\n",
    "x41_lq_sb = X4_lq_sb[stabilization_idx]\n",
    "\n",
    "dataX4 = np.concatenate((x41_lq_a,x41_lq_c,x41_lq_e,x41_lq_f,x41_lq_sh,x41_lq_sb),axis=0)\n",
    "dataX4.shape"
   ]
  },
  {
   "cell_type": "code",
   "execution_count": 24,
   "metadata": {},
   "outputs": [
    {
     "name": "stdout",
     "output_type": "stream",
     "text": [
      "(320, 2)\n"
     ]
    }
   ],
   "source": [
    "import matplotlib.pyplot as plt\n",
    "from sklearn.manifold import TSNE\n",
    "ts4 = TSNE(n_components=2).fit_transform(dataX4)\n",
    "print(ts4.shape)"
   ]
  },
  {
   "cell_type": "code",
   "execution_count": 25,
   "metadata": {},
   "outputs": [
    {
     "data": {
      "image/png": "[encoded data removed]",
      "text/plain": [
       "<Figure size 576x576 with 1 Axes>"
      ]
     },
     "metadata": {
      "needs_background": "light"
     },
     "output_type": "display_data"
    }
   ],
   "source": [
    "\n",
    "A4 = ts4[0:96, :] # Artifacts\n",
    "B4 = ts4[96:160, :] # Color\n",
    "C4 = ts4[160:208, :] # Exposure\n",
    "D4 = ts4[208:240, :] # Focus\n",
    "E4 = ts4[240:288, :] # Sharpness\n",
    "F4 = ts4[288:320, :] # Stabilization\n",
    "\n",
    "# show plot\n",
    "plt.show()\n",
    "plt.figure(figsize=(8,8))\n",
    "plt.scatter(A4[:, 0], A4[:, 1], label = 'Artifacts' )\n",
    "plt.scatter(B4[:, 0], B4[:, 1], label = 'Color' )\n",
    "plt.scatter(C4[:, 0], C4[:, 1], label = 'Exposure' )\n",
    "plt.scatter(D4[:, 0], D4[:, 1], label = 'Focus' )\n",
    "plt.scatter(E4[:, 0], E4[:, 1], label = 'Sharpness' )\n",
    "plt.scatter(F4[:, 0], F4[:, 1],label = 'Stabilization')\n",
    "plt.legend()\n",
    "plt.savefig('LQ_seg16GSM_NIQE.jpg')"
   ]
  }
 ],
 "metadata": {
  "colab": {
   "name": "tsneplot_sneha.ipynb",
   "provenance": []
  },
  "kernelspec": {
   "display_name": "Python 3 (ipykernel)",
   "language": "python",
   "name": "python3"
  },
  "language_info": {
   "codemirror_mode": {
    "name": "ipython",
    "version": 3
   },
   "file_extension": ".py",
   "mimetype": "text/x-python",
   "name": "python",
   "nbconvert_exporter": "python",
   "pygments_lexer": "ipython3",
   "version": "3.9.7"
  }
 },
 "nbformat": 4,
 "nbformat_minor": 1
}
